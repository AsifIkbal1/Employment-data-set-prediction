{
 "cells": [
  {
   "cell_type": "code",
   "execution_count": 1,
   "metadata": {},
   "outputs": [],
   "source": [
    "import pandas as pd\n",
    "from pandas.plotting import scatter_matrix\n",
    "import matplotlib.pyplot as plt\n",
    "from sklearn import model_selection\n",
    "from sklearn.metrics import classification_report\n",
    "from sklearn.metrics import confusion_matrix\n",
    "from sklearn.metrics import accuracy_score\n",
    "from sklearn.linear_model import LogisticRegression\n",
    "from sklearn.tree import DecisionTreeClassifier\n",
    "from sklearn.neighbors import KNeighborsClassifier\n",
    "from sklearn.discriminant_analysis import LinearDiscriminantAnalysis\n",
    "from sklearn.naive_bayes import GaussianNB\n",
    "from sklearn.svm import SVC\n",
    "from sklearn.model_selection import train_test_split\n",
    "from sklearn.linear_model import LinearRegression\n",
    "from sklearn.linear_model import LogisticRegression\n",
    "import numpy as np\n",
    "import pandas as pd\n",
    "from sklearn.preprocessing import StandardScaler\n",
    "from sklearn.metrics import f1_score\n",
    "from sklearn.metrics import accuracy_score\n",
    "%matplotlib inline\n",
    "import seaborn as sns\n",
    "import pandas as pd\n",
    "from sklearn.naive_bayes import GaussianNB\n",
    "from sklearn.model_selection import train_test_split\n",
    "from sklearn.preprocessing import LabelEncoder\n"
   ]
  },
  {
   "cell_type": "code",
   "execution_count": 2,
   "metadata": {},
   "outputs": [
    {
     "data": {
      "text/html": [
       "<div>\n",
       "<style scoped>\n",
       "    .dataframe tbody tr th:only-of-type {\n",
       "        vertical-align: middle;\n",
       "    }\n",
       "\n",
       "    .dataframe tbody tr th {\n",
       "        vertical-align: top;\n",
       "    }\n",
       "\n",
       "    .dataframe thead th {\n",
       "        text-align: right;\n",
       "    }\n",
       "</style>\n",
       "<table border=\"1\" class=\"dataframe\">\n",
       "  <thead>\n",
       "    <tr style=\"text-align: right;\">\n",
       "      <th></th>\n",
       "      <th>month</th>\n",
       "      <th>variable</th>\n",
       "      <th>sex</th>\n",
       "      <th>Alberta</th>\n",
       "      <th>British Columbia</th>\n",
       "      <th>Manitoba</th>\n",
       "      <th>New Brunswick</th>\n",
       "      <th>Newfoundland and Labrador</th>\n",
       "      <th>Nova Scotia</th>\n",
       "      <th>Ontario</th>\n",
       "      <th>Prince Edward Island</th>\n",
       "      <th>Quebec</th>\n",
       "      <th>Saskatchewan</th>\n",
       "    </tr>\n",
       "  </thead>\n",
       "  <tbody>\n",
       "    <tr>\n",
       "      <th>0</th>\n",
       "      <td>1976-01</td>\n",
       "      <td>Employment</td>\n",
       "      <td>Both sexes</td>\n",
       "      <td>819.5</td>\n",
       "      <td>1029.7</td>\n",
       "      <td>427.4</td>\n",
       "      <td>229.6</td>\n",
       "      <td>162.4</td>\n",
       "      <td>303.0</td>\n",
       "      <td>3707.4</td>\n",
       "      <td>42.7</td>\n",
       "      <td>2545.4</td>\n",
       "      <td>369.5</td>\n",
       "    </tr>\n",
       "    <tr>\n",
       "      <th>1</th>\n",
       "      <td>1976-01</td>\n",
       "      <td>Employment</td>\n",
       "      <td>Females</td>\n",
       "      <td>307.1</td>\n",
       "      <td>379.3</td>\n",
       "      <td>164.9</td>\n",
       "      <td>84.3</td>\n",
       "      <td>50.8</td>\n",
       "      <td>110.3</td>\n",
       "      <td>1426.7</td>\n",
       "      <td>16.5</td>\n",
       "      <td>879.5</td>\n",
       "      <td>131.9</td>\n",
       "    </tr>\n",
       "    <tr>\n",
       "      <th>2</th>\n",
       "      <td>1976-01</td>\n",
       "      <td>Employment</td>\n",
       "      <td>Males</td>\n",
       "      <td>512.5</td>\n",
       "      <td>650.4</td>\n",
       "      <td>262.6</td>\n",
       "      <td>145.3</td>\n",
       "      <td>111.6</td>\n",
       "      <td>192.7</td>\n",
       "      <td>2280.7</td>\n",
       "      <td>26.2</td>\n",
       "      <td>1665.9</td>\n",
       "      <td>237.6</td>\n",
       "    </tr>\n",
       "    <tr>\n",
       "      <th>3</th>\n",
       "      <td>1976-01</td>\n",
       "      <td>Full-time employment</td>\n",
       "      <td>Both sexes</td>\n",
       "      <td>693.7</td>\n",
       "      <td>877.1</td>\n",
       "      <td>369.0</td>\n",
       "      <td>201.7</td>\n",
       "      <td>150.0</td>\n",
       "      <td>265.4</td>\n",
       "      <td>3209.1</td>\n",
       "      <td>37.2</td>\n",
       "      <td>2315.6</td>\n",
       "      <td>312.2</td>\n",
       "    </tr>\n",
       "    <tr>\n",
       "      <th>4</th>\n",
       "      <td>1976-01</td>\n",
       "      <td>Full-time employment</td>\n",
       "      <td>Females</td>\n",
       "      <td>217.9</td>\n",
       "      <td>274.6</td>\n",
       "      <td>119.8</td>\n",
       "      <td>62.7</td>\n",
       "      <td>42.1</td>\n",
       "      <td>84.6</td>\n",
       "      <td>1084.1</td>\n",
       "      <td>12.7</td>\n",
       "      <td>727.0</td>\n",
       "      <td>93.3</td>\n",
       "    </tr>\n",
       "  </tbody>\n",
       "</table>\n",
       "</div>"
      ],
      "text/plain": [
       "     month              variable         sex  Alberta  British Columbia  \\\n",
       "0  1976-01            Employment  Both sexes    819.5            1029.7   \n",
       "1  1976-01            Employment     Females    307.1             379.3   \n",
       "2  1976-01            Employment       Males    512.5             650.4   \n",
       "3  1976-01  Full-time employment  Both sexes    693.7             877.1   \n",
       "4  1976-01  Full-time employment     Females    217.9             274.6   \n",
       "\n",
       "   Manitoba  New Brunswick  Newfoundland and Labrador  Nova Scotia  Ontario  \\\n",
       "0     427.4          229.6                      162.4        303.0   3707.4   \n",
       "1     164.9           84.3                       50.8        110.3   1426.7   \n",
       "2     262.6          145.3                      111.6        192.7   2280.7   \n",
       "3     369.0          201.7                      150.0        265.4   3209.1   \n",
       "4     119.8           62.7                       42.1         84.6   1084.1   \n",
       "\n",
       "   Prince Edward Island  Quebec  Saskatchewan  \n",
       "0                  42.7  2545.4         369.5  \n",
       "1                  16.5   879.5         131.9  \n",
       "2                  26.2  1665.9         237.6  \n",
       "3                  37.2  2315.6         312.2  \n",
       "4                  12.7   727.0          93.3  "
      ]
     },
     "execution_count": 2,
     "metadata": {},
     "output_type": "execute_result"
    }
   ],
   "source": [
    "df=pd.read_csv('file:///F:/example_data.csv')\n",
    "df.head()"
   ]
  },
  {
   "cell_type": "code",
   "execution_count": 3,
   "metadata": {},
   "outputs": [],
   "source": [
    "df=df.drop(['month'],axis='columns')"
   ]
  },
  {
   "cell_type": "code",
   "execution_count": 4,
   "metadata": {},
   "outputs": [],
   "source": [
    "from sklearn.preprocessing import LabelEncoder"
   ]
  },
  {
   "cell_type": "code",
   "execution_count": 5,
   "metadata": {},
   "outputs": [],
   "source": [
    "le=LabelEncoder()"
   ]
  },
  {
   "cell_type": "code",
   "execution_count": 6,
   "metadata": {},
   "outputs": [],
   "source": [
    "df['sex']=le.fit_transform(df['sex'])"
   ]
  },
  {
   "cell_type": "code",
   "execution_count": 7,
   "metadata": {},
   "outputs": [
    {
     "data": {
      "text/html": [
       "<div>\n",
       "<style scoped>\n",
       "    .dataframe tbody tr th:only-of-type {\n",
       "        vertical-align: middle;\n",
       "    }\n",
       "\n",
       "    .dataframe tbody tr th {\n",
       "        vertical-align: top;\n",
       "    }\n",
       "\n",
       "    .dataframe thead th {\n",
       "        text-align: right;\n",
       "    }\n",
       "</style>\n",
       "<table border=\"1\" class=\"dataframe\">\n",
       "  <thead>\n",
       "    <tr style=\"text-align: right;\">\n",
       "      <th></th>\n",
       "      <th>variable</th>\n",
       "      <th>sex</th>\n",
       "      <th>Alberta</th>\n",
       "      <th>British Columbia</th>\n",
       "      <th>Manitoba</th>\n",
       "      <th>New Brunswick</th>\n",
       "      <th>Newfoundland and Labrador</th>\n",
       "      <th>Nova Scotia</th>\n",
       "      <th>Ontario</th>\n",
       "      <th>Prince Edward Island</th>\n",
       "      <th>Quebec</th>\n",
       "      <th>Saskatchewan</th>\n",
       "    </tr>\n",
       "  </thead>\n",
       "  <tbody>\n",
       "    <tr>\n",
       "      <th>0</th>\n",
       "      <td>Employment</td>\n",
       "      <td>0</td>\n",
       "      <td>819.5</td>\n",
       "      <td>1029.7</td>\n",
       "      <td>427.4</td>\n",
       "      <td>229.6</td>\n",
       "      <td>162.4</td>\n",
       "      <td>303.0</td>\n",
       "      <td>3707.4</td>\n",
       "      <td>42.7</td>\n",
       "      <td>2545.4</td>\n",
       "      <td>369.5</td>\n",
       "    </tr>\n",
       "    <tr>\n",
       "      <th>1</th>\n",
       "      <td>Employment</td>\n",
       "      <td>1</td>\n",
       "      <td>307.1</td>\n",
       "      <td>379.3</td>\n",
       "      <td>164.9</td>\n",
       "      <td>84.3</td>\n",
       "      <td>50.8</td>\n",
       "      <td>110.3</td>\n",
       "      <td>1426.7</td>\n",
       "      <td>16.5</td>\n",
       "      <td>879.5</td>\n",
       "      <td>131.9</td>\n",
       "    </tr>\n",
       "    <tr>\n",
       "      <th>2</th>\n",
       "      <td>Employment</td>\n",
       "      <td>2</td>\n",
       "      <td>512.5</td>\n",
       "      <td>650.4</td>\n",
       "      <td>262.6</td>\n",
       "      <td>145.3</td>\n",
       "      <td>111.6</td>\n",
       "      <td>192.7</td>\n",
       "      <td>2280.7</td>\n",
       "      <td>26.2</td>\n",
       "      <td>1665.9</td>\n",
       "      <td>237.6</td>\n",
       "    </tr>\n",
       "    <tr>\n",
       "      <th>3</th>\n",
       "      <td>Full-time employment</td>\n",
       "      <td>0</td>\n",
       "      <td>693.7</td>\n",
       "      <td>877.1</td>\n",
       "      <td>369.0</td>\n",
       "      <td>201.7</td>\n",
       "      <td>150.0</td>\n",
       "      <td>265.4</td>\n",
       "      <td>3209.1</td>\n",
       "      <td>37.2</td>\n",
       "      <td>2315.6</td>\n",
       "      <td>312.2</td>\n",
       "    </tr>\n",
       "    <tr>\n",
       "      <th>4</th>\n",
       "      <td>Full-time employment</td>\n",
       "      <td>1</td>\n",
       "      <td>217.9</td>\n",
       "      <td>274.6</td>\n",
       "      <td>119.8</td>\n",
       "      <td>62.7</td>\n",
       "      <td>42.1</td>\n",
       "      <td>84.6</td>\n",
       "      <td>1084.1</td>\n",
       "      <td>12.7</td>\n",
       "      <td>727.0</td>\n",
       "      <td>93.3</td>\n",
       "    </tr>\n",
       "  </tbody>\n",
       "</table>\n",
       "</div>"
      ],
      "text/plain": [
       "               variable  sex  Alberta  British Columbia  Manitoba  \\\n",
       "0            Employment    0    819.5            1029.7     427.4   \n",
       "1            Employment    1    307.1             379.3     164.9   \n",
       "2            Employment    2    512.5             650.4     262.6   \n",
       "3  Full-time employment    0    693.7             877.1     369.0   \n",
       "4  Full-time employment    1    217.9             274.6     119.8   \n",
       "\n",
       "   New Brunswick  Newfoundland and Labrador  Nova Scotia  Ontario  \\\n",
       "0          229.6                      162.4        303.0   3707.4   \n",
       "1           84.3                       50.8        110.3   1426.7   \n",
       "2          145.3                      111.6        192.7   2280.7   \n",
       "3          201.7                      150.0        265.4   3209.1   \n",
       "4           62.7                       42.1         84.6   1084.1   \n",
       "\n",
       "   Prince Edward Island  Quebec  Saskatchewan  \n",
       "0                  42.7  2545.4         369.5  \n",
       "1                  16.5   879.5         131.9  \n",
       "2                  26.2  1665.9         237.6  \n",
       "3                  37.2  2315.6         312.2  \n",
       "4                  12.7   727.0          93.3  "
      ]
     },
     "execution_count": 7,
     "metadata": {},
     "output_type": "execute_result"
    }
   ],
   "source": [
    "df.head()"
   ]
  },
  {
   "cell_type": "code",
   "execution_count": 8,
   "metadata": {},
   "outputs": [
    {
     "data": {
      "text/plain": [
       "(4743, 12)"
      ]
     },
     "execution_count": 8,
     "metadata": {},
     "output_type": "execute_result"
    }
   ],
   "source": [
    "df.shape"
   ]
  },
  {
   "cell_type": "code",
   "execution_count": 10,
   "metadata": {},
   "outputs": [
    {
     "name": "stdout",
     "output_type": "stream",
     "text": [
      "<class 'pandas.core.frame.DataFrame'>\n",
      "RangeIndex: 4743 entries, 0 to 4742\n",
      "Data columns (total 12 columns):\n",
      " #   Column                     Non-Null Count  Dtype  \n",
      "---  ------                     --------------  -----  \n",
      " 0   variable                   4743 non-null   object \n",
      " 1   sex                        4743 non-null   int32  \n",
      " 2   Alberta                    4743 non-null   float64\n",
      " 3   British Columbia           4743 non-null   float64\n",
      " 4   Manitoba                   4743 non-null   float64\n",
      " 5   New Brunswick              4743 non-null   float64\n",
      " 6   Newfoundland and Labrador  4743 non-null   float64\n",
      " 7   Nova Scotia                4743 non-null   float64\n",
      " 8   Ontario                    4743 non-null   float64\n",
      " 9   Prince Edward Island       4743 non-null   float64\n",
      " 10  Quebec                     4743 non-null   float64\n",
      " 11  Saskatchewan               4743 non-null   float64\n",
      "dtypes: float64(10), int32(1), object(1)\n",
      "memory usage: 426.3+ KB\n"
     ]
    }
   ],
   "source": [
    "df.info()"
   ]
  },
  {
   "cell_type": "code",
   "execution_count": 12,
   "metadata": {},
   "outputs": [
    {
     "data": {
      "text/html": [
       "<div>\n",
       "<style scoped>\n",
       "    .dataframe tbody tr th:only-of-type {\n",
       "        vertical-align: middle;\n",
       "    }\n",
       "\n",
       "    .dataframe tbody tr th {\n",
       "        vertical-align: top;\n",
       "    }\n",
       "\n",
       "    .dataframe thead th {\n",
       "        text-align: right;\n",
       "    }\n",
       "</style>\n",
       "<table border=\"1\" class=\"dataframe\">\n",
       "  <thead>\n",
       "    <tr style=\"text-align: right;\">\n",
       "      <th></th>\n",
       "      <th>sex</th>\n",
       "      <th>Alberta</th>\n",
       "      <th>British Columbia</th>\n",
       "      <th>Manitoba</th>\n",
       "      <th>New Brunswick</th>\n",
       "      <th>Newfoundland and Labrador</th>\n",
       "      <th>Nova Scotia</th>\n",
       "      <th>Ontario</th>\n",
       "      <th>Prince Edward Island</th>\n",
       "      <th>Quebec</th>\n",
       "      <th>Saskatchewan</th>\n",
       "    </tr>\n",
       "  </thead>\n",
       "  <tbody>\n",
       "    <tr>\n",
       "      <th>count</th>\n",
       "      <td>4743.000000</td>\n",
       "      <td>4743.000000</td>\n",
       "      <td>4743.000000</td>\n",
       "      <td>4743.000000</td>\n",
       "      <td>4743.000000</td>\n",
       "      <td>4743.000000</td>\n",
       "      <td>4743.000000</td>\n",
       "      <td>4743.000000</td>\n",
       "      <td>4743.000000</td>\n",
       "      <td>4743.000000</td>\n",
       "      <td>4743.000000</td>\n",
       "    </tr>\n",
       "    <tr>\n",
       "      <th>mean</th>\n",
       "      <td>1.000000</td>\n",
       "      <td>703.887265</td>\n",
       "      <td>800.188762</td>\n",
       "      <td>240.903711</td>\n",
       "      <td>138.196268</td>\n",
       "      <td>90.227367</td>\n",
       "      <td>175.255851</td>\n",
       "      <td>2474.794476</td>\n",
       "      <td>26.754628</td>\n",
       "      <td>1497.215728</td>\n",
       "      <td>213.303205</td>\n",
       "    </tr>\n",
       "    <tr>\n",
       "      <th>std</th>\n",
       "      <td>0.816583</td>\n",
       "      <td>535.813558</td>\n",
       "      <td>569.147095</td>\n",
       "      <td>163.037391</td>\n",
       "      <td>97.968014</td>\n",
       "      <td>64.912464</td>\n",
       "      <td>120.604219</td>\n",
       "      <td>1747.167232</td>\n",
       "      <td>18.946446</td>\n",
       "      <td>1054.336810</td>\n",
       "      <td>144.443129</td>\n",
       "    </tr>\n",
       "    <tr>\n",
       "      <th>min</th>\n",
       "      <td>0.000000</td>\n",
       "      <td>31.200000</td>\n",
       "      <td>40.400000</td>\n",
       "      <td>13.300000</td>\n",
       "      <td>4.900000</td>\n",
       "      <td>3.300000</td>\n",
       "      <td>9.500000</td>\n",
       "      <td>141.700000</td>\n",
       "      <td>1.500000</td>\n",
       "      <td>66.000000</td>\n",
       "      <td>15.600000</td>\n",
       "    </tr>\n",
       "    <tr>\n",
       "      <th>25%</th>\n",
       "      <td>0.000000</td>\n",
       "      <td>251.900000</td>\n",
       "      <td>325.150000</td>\n",
       "      <td>95.150000</td>\n",
       "      <td>44.950000</td>\n",
       "      <td>25.150000</td>\n",
       "      <td>61.400000</td>\n",
       "      <td>876.200000</td>\n",
       "      <td>8.950000</td>\n",
       "      <td>511.500000</td>\n",
       "      <td>91.800000</td>\n",
       "    </tr>\n",
       "    <tr>\n",
       "      <th>50%</th>\n",
       "      <td>1.000000</td>\n",
       "      <td>633.200000</td>\n",
       "      <td>724.200000</td>\n",
       "      <td>236.800000</td>\n",
       "      <td>140.000000</td>\n",
       "      <td>92.000000</td>\n",
       "      <td>174.200000</td>\n",
       "      <td>2345.400000</td>\n",
       "      <td>26.500000</td>\n",
       "      <td>1491.600000</td>\n",
       "      <td>208.800000</td>\n",
       "    </tr>\n",
       "    <tr>\n",
       "      <th>75%</th>\n",
       "      <td>2.000000</td>\n",
       "      <td>1028.800000</td>\n",
       "      <td>1092.350000</td>\n",
       "      <td>320.150000</td>\n",
       "      <td>178.300000</td>\n",
       "      <td>117.000000</td>\n",
       "      <td>226.500000</td>\n",
       "      <td>3408.600000</td>\n",
       "      <td>36.450000</td>\n",
       "      <td>2045.750000</td>\n",
       "      <td>281.400000</td>\n",
       "    </tr>\n",
       "    <tr>\n",
       "      <th>max</th>\n",
       "      <td>2.000000</td>\n",
       "      <td>2358.000000</td>\n",
       "      <td>2578.400000</td>\n",
       "      <td>657.700000</td>\n",
       "      <td>364.300000</td>\n",
       "      <td>246.500000</td>\n",
       "      <td>468.900000</td>\n",
       "      <td>7519.200000</td>\n",
       "      <td>79.000000</td>\n",
       "      <td>4379.600000</td>\n",
       "      <td>583.100000</td>\n",
       "    </tr>\n",
       "  </tbody>\n",
       "</table>\n",
       "</div>"
      ],
      "text/plain": [
       "               sex      Alberta  British Columbia     Manitoba  New Brunswick  \\\n",
       "count  4743.000000  4743.000000       4743.000000  4743.000000    4743.000000   \n",
       "mean      1.000000   703.887265        800.188762   240.903711     138.196268   \n",
       "std       0.816583   535.813558        569.147095   163.037391      97.968014   \n",
       "min       0.000000    31.200000         40.400000    13.300000       4.900000   \n",
       "25%       0.000000   251.900000        325.150000    95.150000      44.950000   \n",
       "50%       1.000000   633.200000        724.200000   236.800000     140.000000   \n",
       "75%       2.000000  1028.800000       1092.350000   320.150000     178.300000   \n",
       "max       2.000000  2358.000000       2578.400000   657.700000     364.300000   \n",
       "\n",
       "       Newfoundland and Labrador  Nova Scotia      Ontario  \\\n",
       "count                4743.000000  4743.000000  4743.000000   \n",
       "mean                   90.227367   175.255851  2474.794476   \n",
       "std                    64.912464   120.604219  1747.167232   \n",
       "min                     3.300000     9.500000   141.700000   \n",
       "25%                    25.150000    61.400000   876.200000   \n",
       "50%                    92.000000   174.200000  2345.400000   \n",
       "75%                   117.000000   226.500000  3408.600000   \n",
       "max                   246.500000   468.900000  7519.200000   \n",
       "\n",
       "       Prince Edward Island       Quebec  Saskatchewan  \n",
       "count           4743.000000  4743.000000   4743.000000  \n",
       "mean              26.754628  1497.215728    213.303205  \n",
       "std               18.946446  1054.336810    144.443129  \n",
       "min                1.500000    66.000000     15.600000  \n",
       "25%                8.950000   511.500000     91.800000  \n",
       "50%               26.500000  1491.600000    208.800000  \n",
       "75%               36.450000  2045.750000    281.400000  \n",
       "max               79.000000  4379.600000    583.100000  "
      ]
     },
     "execution_count": 12,
     "metadata": {},
     "output_type": "execute_result"
    }
   ],
   "source": [
    "df.describe()"
   ]
  },
  {
   "cell_type": "code",
   "execution_count": 14,
   "metadata": {},
   "outputs": [
    {
     "data": {
      "text/html": [
       "<div>\n",
       "<style scoped>\n",
       "    .dataframe tbody tr th:only-of-type {\n",
       "        vertical-align: middle;\n",
       "    }\n",
       "\n",
       "    .dataframe tbody tr th {\n",
       "        vertical-align: top;\n",
       "    }\n",
       "\n",
       "    .dataframe thead th {\n",
       "        text-align: right;\n",
       "    }\n",
       "</style>\n",
       "<table border=\"1\" class=\"dataframe\">\n",
       "  <thead>\n",
       "    <tr style=\"text-align: right;\">\n",
       "      <th></th>\n",
       "      <th>count</th>\n",
       "      <th>mean</th>\n",
       "      <th>std</th>\n",
       "      <th>min</th>\n",
       "      <th>25%</th>\n",
       "      <th>50%</th>\n",
       "      <th>75%</th>\n",
       "      <th>max</th>\n",
       "    </tr>\n",
       "  </thead>\n",
       "  <tbody>\n",
       "    <tr>\n",
       "      <th>sex</th>\n",
       "      <td>11.0</td>\n",
       "      <td>-0.267037</td>\n",
       "      <td>0.420500</td>\n",
       "      <td>-0.412230</td>\n",
       "      <td>-0.401226</td>\n",
       "      <td>-0.396667</td>\n",
       "      <td>-0.385345</td>\n",
       "      <td>1.0</td>\n",
       "    </tr>\n",
       "    <tr>\n",
       "      <th>Alberta</th>\n",
       "      <td>11.0</td>\n",
       "      <td>0.850621</td>\n",
       "      <td>0.400626</td>\n",
       "      <td>-0.356349</td>\n",
       "      <td>0.959543</td>\n",
       "      <td>0.963299</td>\n",
       "      <td>0.980557</td>\n",
       "      <td>1.0</td>\n",
       "    </tr>\n",
       "    <tr>\n",
       "      <th>British Columbia</th>\n",
       "      <td>11.0</td>\n",
       "      <td>0.856324</td>\n",
       "      <td>0.414391</td>\n",
       "      <td>-0.392612</td>\n",
       "      <td>0.972543</td>\n",
       "      <td>0.977887</td>\n",
       "      <td>0.988275</td>\n",
       "      <td>1.0</td>\n",
       "    </tr>\n",
       "    <tr>\n",
       "      <th>Manitoba</th>\n",
       "      <td>11.0</td>\n",
       "      <td>0.863001</td>\n",
       "      <td>0.421989</td>\n",
       "      <td>-0.408925</td>\n",
       "      <td>0.984121</td>\n",
       "      <td>0.993266</td>\n",
       "      <td>0.996769</td>\n",
       "      <td>1.0</td>\n",
       "    </tr>\n",
       "    <tr>\n",
       "      <th>New Brunswick</th>\n",
       "      <td>11.0</td>\n",
       "      <td>0.863429</td>\n",
       "      <td>0.418075</td>\n",
       "      <td>-0.396667</td>\n",
       "      <td>0.983150</td>\n",
       "      <td>0.992101</td>\n",
       "      <td>0.995189</td>\n",
       "      <td>1.0</td>\n",
       "    </tr>\n",
       "    <tr>\n",
       "      <th>Newfoundland and Labrador</th>\n",
       "      <td>11.0</td>\n",
       "      <td>0.858557</td>\n",
       "      <td>0.411775</td>\n",
       "      <td>-0.381962</td>\n",
       "      <td>0.968997</td>\n",
       "      <td>0.990356</td>\n",
       "      <td>0.991807</td>\n",
       "      <td>1.0</td>\n",
       "    </tr>\n",
       "    <tr>\n",
       "      <th>Nova Scotia</th>\n",
       "      <td>11.0</td>\n",
       "      <td>0.862813</td>\n",
       "      <td>0.423037</td>\n",
       "      <td>-0.412230</td>\n",
       "      <td>0.984620</td>\n",
       "      <td>0.993130</td>\n",
       "      <td>0.996625</td>\n",
       "      <td>1.0</td>\n",
       "    </tr>\n",
       "    <tr>\n",
       "      <th>Ontario</th>\n",
       "      <td>11.0</td>\n",
       "      <td>0.865012</td>\n",
       "      <td>0.419089</td>\n",
       "      <td>-0.398462</td>\n",
       "      <td>0.984656</td>\n",
       "      <td>0.992085</td>\n",
       "      <td>0.994961</td>\n",
       "      <td>1.0</td>\n",
       "    </tr>\n",
       "    <tr>\n",
       "      <th>Prince Edward Island</th>\n",
       "      <td>11.0</td>\n",
       "      <td>0.864701</td>\n",
       "      <td>0.420830</td>\n",
       "      <td>-0.403989</td>\n",
       "      <td>0.986461</td>\n",
       "      <td>0.993266</td>\n",
       "      <td>0.996063</td>\n",
       "      <td>1.0</td>\n",
       "    </tr>\n",
       "    <tr>\n",
       "      <th>Quebec</th>\n",
       "      <td>11.0</td>\n",
       "      <td>0.866868</td>\n",
       "      <td>0.416497</td>\n",
       "      <td>-0.388728</td>\n",
       "      <td>0.987640</td>\n",
       "      <td>0.995084</td>\n",
       "      <td>0.996755</td>\n",
       "      <td>1.0</td>\n",
       "    </tr>\n",
       "    <tr>\n",
       "      <th>Saskatchewan</th>\n",
       "      <td>11.0</td>\n",
       "      <td>0.860213</td>\n",
       "      <td>0.417311</td>\n",
       "      <td>-0.397480</td>\n",
       "      <td>0.976723</td>\n",
       "      <td>0.988572</td>\n",
       "      <td>0.991929</td>\n",
       "      <td>1.0</td>\n",
       "    </tr>\n",
       "  </tbody>\n",
       "</table>\n",
       "</div>"
      ],
      "text/plain": [
       "                           count      mean       std       min       25%  \\\n",
       "sex                         11.0 -0.267037  0.420500 -0.412230 -0.401226   \n",
       "Alberta                     11.0  0.850621  0.400626 -0.356349  0.959543   \n",
       "British Columbia            11.0  0.856324  0.414391 -0.392612  0.972543   \n",
       "Manitoba                    11.0  0.863001  0.421989 -0.408925  0.984121   \n",
       "New Brunswick               11.0  0.863429  0.418075 -0.396667  0.983150   \n",
       "Newfoundland and Labrador   11.0  0.858557  0.411775 -0.381962  0.968997   \n",
       "Nova Scotia                 11.0  0.862813  0.423037 -0.412230  0.984620   \n",
       "Ontario                     11.0  0.865012  0.419089 -0.398462  0.984656   \n",
       "Prince Edward Island        11.0  0.864701  0.420830 -0.403989  0.986461   \n",
       "Quebec                      11.0  0.866868  0.416497 -0.388728  0.987640   \n",
       "Saskatchewan                11.0  0.860213  0.417311 -0.397480  0.976723   \n",
       "\n",
       "                                50%       75%  max  \n",
       "sex                       -0.396667 -0.385345  1.0  \n",
       "Alberta                    0.963299  0.980557  1.0  \n",
       "British Columbia           0.977887  0.988275  1.0  \n",
       "Manitoba                   0.993266  0.996769  1.0  \n",
       "New Brunswick              0.992101  0.995189  1.0  \n",
       "Newfoundland and Labrador  0.990356  0.991807  1.0  \n",
       "Nova Scotia                0.993130  0.996625  1.0  \n",
       "Ontario                    0.992085  0.994961  1.0  \n",
       "Prince Edward Island       0.993266  0.996063  1.0  \n",
       "Quebec                     0.995084  0.996755  1.0  \n",
       "Saskatchewan               0.988572  0.991929  1.0  "
      ]
     },
     "execution_count": 14,
     "metadata": {},
     "output_type": "execute_result"
    }
   ],
   "source": [
    "df.corr().describe().T"
   ]
  },
  {
   "cell_type": "code",
   "execution_count": 16,
   "metadata": {},
   "outputs": [
    {
     "data": {
      "text/plain": [
       "variable                     0\n",
       "sex                          0\n",
       "Alberta                      0\n",
       "British Columbia             0\n",
       "Manitoba                     0\n",
       "New Brunswick                0\n",
       "Newfoundland and Labrador    0\n",
       "Nova Scotia                  0\n",
       "Ontario                      0\n",
       "Prince Edward Island         0\n",
       "Quebec                       0\n",
       "Saskatchewan                 0\n",
       "dtype: int64"
      ]
     },
     "execution_count": 16,
     "metadata": {},
     "output_type": "execute_result"
    }
   ],
   "source": [
    "df.isna().sum()"
   ]
  },
  {
   "cell_type": "code",
   "execution_count": 17,
   "metadata": {},
   "outputs": [
    {
     "data": {
      "text/plain": [
       "variable                     Part-time employment \n",
       "sex                                              2\n",
       "Alberta                                     2358.0\n",
       "British Columbia                            2578.4\n",
       "Manitoba                                     657.7\n",
       "New Brunswick                                364.3\n",
       "Newfoundland and Labrador                    246.5\n",
       "Nova Scotia                                  468.9\n",
       "Ontario                                     7519.2\n",
       "Prince Edward Island                          79.0\n",
       "Quebec                                      4379.6\n",
       "Saskatchewan                                 583.1\n",
       "dtype: object"
      ]
     },
     "execution_count": 17,
     "metadata": {},
     "output_type": "execute_result"
    }
   ],
   "source": [
    "df.max()"
   ]
  },
  {
   "cell_type": "code",
   "execution_count": 18,
   "metadata": {},
   "outputs": [
    {
     "data": {
      "text/plain": [
       "variable                     Employment\n",
       "sex                                   0\n",
       "Alberta                            31.2\n",
       "British Columbia                   40.4\n",
       "Manitoba                           13.3\n",
       "New Brunswick                       4.9\n",
       "Newfoundland and Labrador           3.3\n",
       "Nova Scotia                         9.5\n",
       "Ontario                           141.7\n",
       "Prince Edward Island                1.5\n",
       "Quebec                             66.0\n",
       "Saskatchewan                       15.6\n",
       "dtype: object"
      ]
     },
     "execution_count": 18,
     "metadata": {},
     "output_type": "execute_result"
    }
   ],
   "source": [
    "df.min()"
   ]
  },
  {
   "cell_type": "code",
   "execution_count": 19,
   "metadata": {},
   "outputs": [
    {
     "name": "stderr",
     "output_type": "stream",
     "text": [
      "C:\\Users\\Md Asif Ikbal\\anaconda3\\lib\\site-packages\\ipykernel_launcher.py:1: FutureWarning: Dropping of nuisance columns in DataFrame reductions (with 'numeric_only=None') is deprecated; in a future version this will raise TypeError.  Select only valid columns before calling the reduction.\n",
      "  \"\"\"Entry point for launching an IPython kernel.\n"
     ]
    },
    {
     "data": {
      "text/plain": [
       "sex                             1.000000\n",
       "Alberta                       703.887265\n",
       "British Columbia              800.188762\n",
       "Manitoba                      240.903711\n",
       "New Brunswick                 138.196268\n",
       "Newfoundland and Labrador      90.227367\n",
       "Nova Scotia                   175.255851\n",
       "Ontario                      2474.794476\n",
       "Prince Edward Island           26.754628\n",
       "Quebec                       1497.215728\n",
       "Saskatchewan                  213.303205\n",
       "dtype: float64"
      ]
     },
     "execution_count": 19,
     "metadata": {},
     "output_type": "execute_result"
    }
   ],
   "source": [
    "df.mean()"
   ]
  },
  {
   "cell_type": "code",
   "execution_count": 21,
   "metadata": {},
   "outputs": [
    {
     "data": {
      "text/plain": [
       "variable                      object\n",
       "sex                            int32\n",
       "Alberta                      float64\n",
       "British Columbia             float64\n",
       "Manitoba                     float64\n",
       "New Brunswick                float64\n",
       "Newfoundland and Labrador    float64\n",
       "Nova Scotia                  float64\n",
       "Ontario                      float64\n",
       "Prince Edward Island         float64\n",
       "Quebec                       float64\n",
       "Saskatchewan                 float64\n",
       "dtype: object"
      ]
     },
     "execution_count": 21,
     "metadata": {},
     "output_type": "execute_result"
    }
   ],
   "source": [
    "df.dtypes"
   ]
  },
  {
   "cell_type": "code",
   "execution_count": 22,
   "metadata": {},
   "outputs": [
    {
     "data": {
      "text/plain": [
       "Index(['variable', 'sex', 'Alberta', 'British Columbia', 'Manitoba',\n",
       "       'New Brunswick', 'Newfoundland and Labrador', 'Nova Scotia', 'Ontario',\n",
       "       'Prince Edward Island', 'Quebec', 'Saskatchewan'],\n",
       "      dtype='object')"
      ]
     },
     "execution_count": 22,
     "metadata": {},
     "output_type": "execute_result"
    }
   ],
   "source": [
    "df.columns"
   ]
  },
  {
   "cell_type": "code",
   "execution_count": 24,
   "metadata": {},
   "outputs": [],
   "source": [
    "x=df.drop(['variable'],axis='columns')"
   ]
  },
  {
   "cell_type": "code",
   "execution_count": 25,
   "metadata": {},
   "outputs": [],
   "source": [
    "y=df.variable.values"
   ]
  },
  {
   "cell_type": "code",
   "execution_count": 26,
   "metadata": {},
   "outputs": [],
   "source": [
    "xtrain,xtest,ytrain,ytest=train_test_split(x,y,test_size=0.3)"
   ]
  },
  {
   "cell_type": "code",
   "execution_count": 27,
   "metadata": {},
   "outputs": [],
   "source": [
    "tre=DecisionTreeClassifier()"
   ]
  },
  {
   "cell_type": "code",
   "execution_count": 28,
   "metadata": {},
   "outputs": [
    {
     "data": {
      "text/plain": [
       "99.29725931131412"
      ]
     },
     "execution_count": 28,
     "metadata": {},
     "output_type": "execute_result"
    }
   ],
   "source": [
    "tre.fit(xtrain,ytrain)\n",
    "pred_tre=tre.predict(xtest)\n",
    "accu_tre=accuracy_score(ytest,pred_tre)*100\n",
    "accu_tre"
   ]
  },
  {
   "cell_type": "code",
   "execution_count": 29,
   "metadata": {},
   "outputs": [
    {
     "name": "stdout",
     "output_type": "stream",
     "text": [
      "                       precision    recall  f1-score   support\n",
      "\n",
      "           Employment       0.99      1.00      0.99       470\n",
      " Full-time employment       0.99      0.99      0.99       492\n",
      "Part-time employment        1.00      1.00      1.00       461\n",
      "\n",
      "             accuracy                           0.99      1423\n",
      "            macro avg       0.99      0.99      0.99      1423\n",
      "         weighted avg       0.99      0.99      0.99      1423\n",
      "\n"
     ]
    }
   ],
   "source": [
    "print(classification_report(ytest,pred_tre))"
   ]
  },
  {
   "cell_type": "code",
   "execution_count": 30,
   "metadata": {},
   "outputs": [],
   "source": [
    "from sklearn.neighbors import KNeighborsClassifier"
   ]
  },
  {
   "cell_type": "code",
   "execution_count": 31,
   "metadata": {},
   "outputs": [
    {
     "data": {
      "text/plain": [
       "100.0"
      ]
     },
     "execution_count": 31,
     "metadata": {},
     "output_type": "execute_result"
    }
   ],
   "source": [
    "kne=KNeighborsClassifier()\n",
    "kne.fit(xtrain,ytrain)\n",
    "pred_kne=kne.predict(xtest)\n",
    "accu_kne=accuracy_score(ytest,pred_kne)*100\n",
    "accu_kne"
   ]
  },
  {
   "cell_type": "code",
   "execution_count": 32,
   "metadata": {},
   "outputs": [
    {
     "name": "stdout",
     "output_type": "stream",
     "text": [
      "                       precision    recall  f1-score   support\n",
      "\n",
      "           Employment       1.00      1.00      1.00       470\n",
      " Full-time employment       1.00      1.00      1.00       492\n",
      "Part-time employment        1.00      1.00      1.00       461\n",
      "\n",
      "             accuracy                           1.00      1423\n",
      "            macro avg       1.00      1.00      1.00      1423\n",
      "         weighted avg       1.00      1.00      1.00      1423\n",
      "\n"
     ]
    }
   ],
   "source": [
    "print(classification_report(ytest,pred_kne))"
   ]
  },
  {
   "cell_type": "code",
   "execution_count": 33,
   "metadata": {},
   "outputs": [],
   "source": [
    "from sklearn.ensemble import AdaBoostClassifier"
   ]
  },
  {
   "cell_type": "code",
   "execution_count": 35,
   "metadata": {},
   "outputs": [
    {
     "data": {
      "text/plain": [
       "70.41461700632466"
      ]
     },
     "execution_count": 35,
     "metadata": {},
     "output_type": "execute_result"
    }
   ],
   "source": [
    "ada=AdaBoostClassifier()\n",
    "ada.fit(xtrain,ytrain)\n",
    "pred_ada=ada.predict(xtest)\n",
    "accu_ada=accuracy_score(ytest,pred_ada)*100\n",
    "accu_ada"
   ]
  },
  {
   "cell_type": "code",
   "execution_count": 36,
   "metadata": {},
   "outputs": [
    {
     "name": "stdout",
     "output_type": "stream",
     "text": [
      "                       precision    recall  f1-score   support\n",
      "\n",
      "           Employment       0.53      1.00      0.69       470\n",
      " Full-time employment       0.96      0.15      0.26       492\n",
      "Part-time employment        1.00      1.00      1.00       461\n",
      "\n",
      "             accuracy                           0.70      1423\n",
      "            macro avg       0.83      0.71      0.65      1423\n",
      "         weighted avg       0.83      0.70      0.64      1423\n",
      "\n"
     ]
    }
   ],
   "source": [
    "print(classification_report(ytest,pred_ada))"
   ]
  },
  {
   "cell_type": "code",
   "execution_count": 37,
   "metadata": {},
   "outputs": [],
   "source": [
    "from sklearn.ensemble import BaggingClassifier"
   ]
  },
  {
   "cell_type": "code",
   "execution_count": 38,
   "metadata": {},
   "outputs": [
    {
     "data": {
      "text/plain": [
       "99.15671117357695"
      ]
     },
     "execution_count": 38,
     "metadata": {},
     "output_type": "execute_result"
    }
   ],
   "source": [
    "bag=BaggingClassifier()\n",
    "bag.fit(xtrain,ytrain)\n",
    "pred_bag=bag.predict(xtest)\n",
    "accu_bag=accuracy_score(ytest,pred_bag)*100\n",
    "accu_bag"
   ]
  },
  {
   "cell_type": "code",
   "execution_count": 39,
   "metadata": {},
   "outputs": [
    {
     "name": "stdout",
     "output_type": "stream",
     "text": [
      "                       precision    recall  f1-score   support\n",
      "\n",
      "           Employment       0.98      1.00      0.99       470\n",
      " Full-time employment       0.99      0.98      0.99       492\n",
      "Part-time employment        1.00      1.00      1.00       461\n",
      "\n",
      "             accuracy                           0.99      1423\n",
      "            macro avg       0.99      0.99      0.99      1423\n",
      "         weighted avg       0.99      0.99      0.99      1423\n",
      "\n"
     ]
    }
   ],
   "source": [
    "print(classification_report(ytest,pred_bag))"
   ]
  },
  {
   "cell_type": "code",
   "execution_count": 40,
   "metadata": {},
   "outputs": [],
   "source": [
    "from sklearn.naive_bayes import GaussianNB"
   ]
  },
  {
   "cell_type": "code",
   "execution_count": 42,
   "metadata": {},
   "outputs": [
    {
     "data": {
      "text/plain": [
       "65.63598032326071"
      ]
     },
     "execution_count": 42,
     "metadata": {},
     "output_type": "execute_result"
    }
   ],
   "source": [
    "gau=GaussianNB()\n",
    "gau.fit(xtrain,ytrain)\n",
    "pre_gau=gau.predict(xtest)\n",
    "accu_gau=accuracy_score(ytest,pre_gau)*100\n",
    "accu_gau"
   ]
  },
  {
   "cell_type": "code",
   "execution_count": 43,
   "metadata": {},
   "outputs": [
    {
     "name": "stdout",
     "output_type": "stream",
     "text": [
      "                       precision    recall  f1-score   support\n",
      "\n",
      "           Employment       0.50      0.35      0.41       470\n",
      " Full-time employment       0.50      0.63      0.56       492\n",
      "Part-time employment        0.96      1.00      0.98       461\n",
      "\n",
      "             accuracy                           0.66      1423\n",
      "            macro avg       0.65      0.66      0.65      1423\n",
      "         weighted avg       0.65      0.66      0.65      1423\n",
      "\n"
     ]
    }
   ],
   "source": [
    "print(classification_report(ytest,pre_gau))"
   ]
  },
  {
   "cell_type": "code",
   "execution_count": 44,
   "metadata": {},
   "outputs": [],
   "source": [
    "from sklearn.ensemble import ExtraTreesClassifier"
   ]
  },
  {
   "cell_type": "code",
   "execution_count": 45,
   "metadata": {},
   "outputs": [
    {
     "data": {
      "text/plain": [
       "100.0"
      ]
     },
     "execution_count": 45,
     "metadata": {},
     "output_type": "execute_result"
    }
   ],
   "source": [
    "etc=ExtraTreesClassifier()\n",
    "etc.fit(xtrain,ytrain)\n",
    "pre_etc=etc.predict(xtest)\n",
    "accu_etc=accuracy_score(ytest,pre_etc)*100\n",
    "accu_etc"
   ]
  },
  {
   "cell_type": "code",
   "execution_count": 46,
   "metadata": {},
   "outputs": [
    {
     "name": "stdout",
     "output_type": "stream",
     "text": [
      "                       precision    recall  f1-score   support\n",
      "\n",
      "           Employment       1.00      1.00      1.00       470\n",
      " Full-time employment       1.00      1.00      1.00       492\n",
      "Part-time employment        1.00      1.00      1.00       461\n",
      "\n",
      "             accuracy                           1.00      1423\n",
      "            macro avg       1.00      1.00      1.00      1423\n",
      "         weighted avg       1.00      1.00      1.00      1423\n",
      "\n"
     ]
    }
   ],
   "source": [
    "print(classification_report(ytest,pre_etc))"
   ]
  },
  {
   "cell_type": "code",
   "execution_count": 47,
   "metadata": {},
   "outputs": [],
   "source": [
    "from sklearn.svm import SVC"
   ]
  },
  {
   "cell_type": "code",
   "execution_count": 48,
   "metadata": {},
   "outputs": [
    {
     "data": {
      "text/plain": [
       "77.65284609978917"
      ]
     },
     "execution_count": 48,
     "metadata": {},
     "output_type": "execute_result"
    }
   ],
   "source": [
    "svc=SVC()\n",
    "svc.fit(xtrain,ytrain)\n",
    "pre_svc=svc.predict(xtest)\n",
    "accu_svc=accuracy_score(ytest,pre_svc)*100\n",
    "accu_svc"
   ]
  },
  {
   "cell_type": "code",
   "execution_count": 49,
   "metadata": {},
   "outputs": [
    {
     "name": "stdout",
     "output_type": "stream",
     "text": [
      "                       precision    recall  f1-score   support\n",
      "\n",
      "           Employment       0.67      0.77      0.72       470\n",
      " Full-time employment       0.72      0.57      0.64       492\n",
      "Part-time employment        0.94      1.00      0.97       461\n",
      "\n",
      "             accuracy                           0.78      1423\n",
      "            macro avg       0.78      0.78      0.77      1423\n",
      "         weighted avg       0.77      0.78      0.77      1423\n",
      "\n"
     ]
    }
   ],
   "source": [
    "print(classification_report(ytest,pre_svc))"
   ]
  },
  {
   "cell_type": "code",
   "execution_count": 50,
   "metadata": {},
   "outputs": [],
   "source": [
    "from sklearn.ensemble import RandomForestClassifier"
   ]
  },
  {
   "cell_type": "code",
   "execution_count": 51,
   "metadata": {},
   "outputs": [
    {
     "data": {
      "text/plain": [
       "99.78917779339423"
      ]
     },
     "execution_count": 51,
     "metadata": {},
     "output_type": "execute_result"
    }
   ],
   "source": [
    "rnd=RandomForestClassifier()\n",
    "rnd.fit(xtrain,ytrain)\n",
    "pre_rnd=rnd.predict(xtest)\n",
    "accu_rnd=accuracy_score(ytest,pre_rnd)*100\n",
    "accu_rnd"
   ]
  },
  {
   "cell_type": "code",
   "execution_count": 52,
   "metadata": {},
   "outputs": [
    {
     "name": "stdout",
     "output_type": "stream",
     "text": [
      "                       precision    recall  f1-score   support\n",
      "\n",
      "           Employment       1.00      1.00      1.00       470\n",
      " Full-time employment       1.00      1.00      1.00       492\n",
      "Part-time employment        1.00      1.00      1.00       461\n",
      "\n",
      "             accuracy                           1.00      1423\n",
      "            macro avg       1.00      1.00      1.00      1423\n",
      "         weighted avg       1.00      1.00      1.00      1423\n",
      "\n"
     ]
    }
   ],
   "source": [
    "print(classification_report(ytest,pre_rnd))"
   ]
  },
  {
   "cell_type": "code",
   "execution_count": 53,
   "metadata": {},
   "outputs": [
    {
     "name": "stderr",
     "output_type": "stream",
     "text": [
      "C:\\Users\\Md Asif Ikbal\\anaconda3\\lib\\site-packages\\sklearn\\linear_model\\_logistic.py:940: ConvergenceWarning: lbfgs failed to converge (status=1):\n",
      "STOP: TOTAL NO. of ITERATIONS REACHED LIMIT.\n",
      "\n",
      "Increase the number of iterations (max_iter) or scale the data as shown in:\n",
      "    https://scikit-learn.org/stable/modules/preprocessing.html\n",
      "Please also refer to the documentation for alternative solver options:\n",
      "    https://scikit-learn.org/stable/modules/linear_model.html#logistic-regression\n",
      "  extra_warning_msg=_LOGISTIC_SOLVER_CONVERGENCE_MSG)\n"
     ]
    },
    {
     "data": {
      "text/plain": [
       "88.12368236120871"
      ]
     },
     "execution_count": 53,
     "metadata": {},
     "output_type": "execute_result"
    }
   ],
   "source": [
    "lo=LogisticRegression()\n",
    "lo.fit(xtrain,ytrain)\n",
    "pred_lo=lo.predict(xtest)\n",
    "accu_lo=accuracy_score(ytest,pred_lo)*100\n",
    "accu_lo"
   ]
  },
  {
   "cell_type": "code",
   "execution_count": 54,
   "metadata": {},
   "outputs": [
    {
     "name": "stdout",
     "output_type": "stream",
     "text": [
      "                       precision    recall  f1-score   support\n",
      "\n",
      "           Employment       0.80      0.85      0.83       470\n",
      " Full-time employment       0.90      0.86      0.88       492\n",
      "Part-time employment        0.95      0.93      0.94       461\n",
      "\n",
      "             accuracy                           0.88      1423\n",
      "            macro avg       0.88      0.88      0.88      1423\n",
      "         weighted avg       0.88      0.88      0.88      1423\n",
      "\n"
     ]
    }
   ],
   "source": [
    "print(classification_report(ytest,pred_lo))"
   ]
  },
  {
   "cell_type": "code",
   "execution_count": 55,
   "metadata": {},
   "outputs": [
    {
     "data": {
      "text/html": [
       "<div>\n",
       "<style scoped>\n",
       "    .dataframe tbody tr th:only-of-type {\n",
       "        vertical-align: middle;\n",
       "    }\n",
       "\n",
       "    .dataframe tbody tr th {\n",
       "        vertical-align: top;\n",
       "    }\n",
       "\n",
       "    .dataframe thead th {\n",
       "        text-align: right;\n",
       "    }\n",
       "</style>\n",
       "<table border=\"1\" class=\"dataframe\">\n",
       "  <thead>\n",
       "    <tr style=\"text-align: right;\">\n",
       "      <th></th>\n",
       "      <th>Model</th>\n",
       "      <th>Score</th>\n",
       "    </tr>\n",
       "  </thead>\n",
       "  <tbody>\n",
       "    <tr>\n",
       "      <th>2</th>\n",
       "      <td>KNeighborsClassifier</td>\n",
       "      <td>100.000000</td>\n",
       "    </tr>\n",
       "    <tr>\n",
       "      <th>7</th>\n",
       "      <td>ExtraTreesClassifier</td>\n",
       "      <td>100.000000</td>\n",
       "    </tr>\n",
       "    <tr>\n",
       "      <th>9</th>\n",
       "      <td>RandomForestClassifier</td>\n",
       "      <td>99.789178</td>\n",
       "    </tr>\n",
       "    <tr>\n",
       "      <th>1</th>\n",
       "      <td>DecisionTreeClassifier</td>\n",
       "      <td>99.297259</td>\n",
       "    </tr>\n",
       "    <tr>\n",
       "      <th>4</th>\n",
       "      <td>BaggingClassifier</td>\n",
       "      <td>99.156711</td>\n",
       "    </tr>\n",
       "    <tr>\n",
       "      <th>0</th>\n",
       "      <td>LogisticRegression</td>\n",
       "      <td>88.123682</td>\n",
       "    </tr>\n",
       "    <tr>\n",
       "      <th>8</th>\n",
       "      <td>SVM</td>\n",
       "      <td>77.652846</td>\n",
       "    </tr>\n",
       "    <tr>\n",
       "      <th>3</th>\n",
       "      <td>AdaBoostClassifier</td>\n",
       "      <td>70.414617</td>\n",
       "    </tr>\n",
       "    <tr>\n",
       "      <th>6</th>\n",
       "      <td>AdaBoostClassifier</td>\n",
       "      <td>70.414617</td>\n",
       "    </tr>\n",
       "    <tr>\n",
       "      <th>5</th>\n",
       "      <td>GaussianNB</td>\n",
       "      <td>65.635980</td>\n",
       "    </tr>\n",
       "  </tbody>\n",
       "</table>\n",
       "</div>"
      ],
      "text/plain": [
       "                    Model       Score\n",
       "2    KNeighborsClassifier  100.000000\n",
       "7    ExtraTreesClassifier  100.000000\n",
       "9  RandomForestClassifier   99.789178\n",
       "1  DecisionTreeClassifier   99.297259\n",
       "4       BaggingClassifier   99.156711\n",
       "0      LogisticRegression   88.123682\n",
       "8                     SVM   77.652846\n",
       "3      AdaBoostClassifier   70.414617\n",
       "6      AdaBoostClassifier   70.414617\n",
       "5              GaussianNB   65.635980"
      ]
     },
     "execution_count": 55,
     "metadata": {},
     "output_type": "execute_result"
    }
   ],
   "source": [
    "models = pd.DataFrame({\n",
    "    'Model': ['LogisticRegression','DecisionTreeClassifier','KNeighborsClassifier' , \n",
    "             'AdaBoostClassifier','BaggingClassifier','GaussianNB','AdaBoostClassifier','ExtraTreesClassifier','SVM','RandomForestClassifier'],\n",
    "    'Score': [accu_lo,accu_tre, accu_kne, accu_ada,accu_bag,accu_gau,accu_ada,accu_etc,accu_svc,accu_rnd]\n",
    "})\n",
    "\n",
    "models.sort_values(by = 'Score', ascending = False)"
   ]
  },
  {
   "cell_type": "code",
   "execution_count": 58,
   "metadata": {},
   "outputs": [
    {
     "data": {
      "image/png": "[encoded data removed]",
      "text/plain": [
       "<Figure size 1080x576 with 1 Axes>"
      ]
     },
     "metadata": {},
     "output_type": "display_data"
    }
   ],
   "source": [
    "colors = [\"purple\", \"green\", \"orange\", \"magenta\",\"blue\",\"black\",\"red\"]\n",
    "\n",
    "sns.set_style(\"whitegrid\")\n",
    "plt.figure(figsize=(15,8))\n",
    "plt.ylabel(\"Accuracy %\")\n",
    "plt.xlabel(\"Algorithms\")\n",
    "sns.barplot(x=models['Model'],y=models['Score'], palette=colors )\n",
    "plt.show()"
   ]
  },
  {
   "cell_type": "code",
   "execution_count": 59,
   "metadata": {},
   "outputs": [
    {
     "data": {
      "text/html": [
       "<div>\n",
       "<style scoped>\n",
       "    .dataframe tbody tr th:only-of-type {\n",
       "        vertical-align: middle;\n",
       "    }\n",
       "\n",
       "    .dataframe tbody tr th {\n",
       "        vertical-align: top;\n",
       "    }\n",
       "\n",
       "    .dataframe thead th {\n",
       "        text-align: right;\n",
       "    }\n",
       "</style>\n",
       "<table border=\"1\" class=\"dataframe\">\n",
       "  <thead>\n",
       "    <tr style=\"text-align: right;\">\n",
       "      <th></th>\n",
       "      <th>variable</th>\n",
       "      <th>sex</th>\n",
       "      <th>Alberta</th>\n",
       "      <th>British Columbia</th>\n",
       "      <th>Manitoba</th>\n",
       "      <th>New Brunswick</th>\n",
       "      <th>Newfoundland and Labrador</th>\n",
       "      <th>Nova Scotia</th>\n",
       "      <th>Ontario</th>\n",
       "      <th>Prince Edward Island</th>\n",
       "      <th>Quebec</th>\n",
       "      <th>Saskatchewan</th>\n",
       "    </tr>\n",
       "  </thead>\n",
       "  <tbody>\n",
       "    <tr>\n",
       "      <th>0</th>\n",
       "      <td>Employment</td>\n",
       "      <td>0</td>\n",
       "      <td>819.5</td>\n",
       "      <td>1029.7</td>\n",
       "      <td>427.4</td>\n",
       "      <td>229.6</td>\n",
       "      <td>162.4</td>\n",
       "      <td>303.0</td>\n",
       "      <td>3707.4</td>\n",
       "      <td>42.7</td>\n",
       "      <td>2545.4</td>\n",
       "      <td>369.5</td>\n",
       "    </tr>\n",
       "    <tr>\n",
       "      <th>1</th>\n",
       "      <td>Employment</td>\n",
       "      <td>1</td>\n",
       "      <td>307.1</td>\n",
       "      <td>379.3</td>\n",
       "      <td>164.9</td>\n",
       "      <td>84.3</td>\n",
       "      <td>50.8</td>\n",
       "      <td>110.3</td>\n",
       "      <td>1426.7</td>\n",
       "      <td>16.5</td>\n",
       "      <td>879.5</td>\n",
       "      <td>131.9</td>\n",
       "    </tr>\n",
       "    <tr>\n",
       "      <th>2</th>\n",
       "      <td>Employment</td>\n",
       "      <td>2</td>\n",
       "      <td>512.5</td>\n",
       "      <td>650.4</td>\n",
       "      <td>262.6</td>\n",
       "      <td>145.3</td>\n",
       "      <td>111.6</td>\n",
       "      <td>192.7</td>\n",
       "      <td>2280.7</td>\n",
       "      <td>26.2</td>\n",
       "      <td>1665.9</td>\n",
       "      <td>237.6</td>\n",
       "    </tr>\n",
       "    <tr>\n",
       "      <th>3</th>\n",
       "      <td>Full-time employment</td>\n",
       "      <td>0</td>\n",
       "      <td>693.7</td>\n",
       "      <td>877.1</td>\n",
       "      <td>369.0</td>\n",
       "      <td>201.7</td>\n",
       "      <td>150.0</td>\n",
       "      <td>265.4</td>\n",
       "      <td>3209.1</td>\n",
       "      <td>37.2</td>\n",
       "      <td>2315.6</td>\n",
       "      <td>312.2</td>\n",
       "    </tr>\n",
       "    <tr>\n",
       "      <th>4</th>\n",
       "      <td>Full-time employment</td>\n",
       "      <td>1</td>\n",
       "      <td>217.9</td>\n",
       "      <td>274.6</td>\n",
       "      <td>119.8</td>\n",
       "      <td>62.7</td>\n",
       "      <td>42.1</td>\n",
       "      <td>84.6</td>\n",
       "      <td>1084.1</td>\n",
       "      <td>12.7</td>\n",
       "      <td>727.0</td>\n",
       "      <td>93.3</td>\n",
       "    </tr>\n",
       "  </tbody>\n",
       "</table>\n",
       "</div>"
      ],
      "text/plain": [
       "               variable  sex  Alberta  British Columbia  Manitoba  \\\n",
       "0            Employment    0    819.5            1029.7     427.4   \n",
       "1            Employment    1    307.1             379.3     164.9   \n",
       "2            Employment    2    512.5             650.4     262.6   \n",
       "3  Full-time employment    0    693.7             877.1     369.0   \n",
       "4  Full-time employment    1    217.9             274.6     119.8   \n",
       "\n",
       "   New Brunswick  Newfoundland and Labrador  Nova Scotia  Ontario  \\\n",
       "0          229.6                      162.4        303.0   3707.4   \n",
       "1           84.3                       50.8        110.3   1426.7   \n",
       "2          145.3                      111.6        192.7   2280.7   \n",
       "3          201.7                      150.0        265.4   3209.1   \n",
       "4           62.7                       42.1         84.6   1084.1   \n",
       "\n",
       "   Prince Edward Island  Quebec  Saskatchewan  \n",
       "0                  42.7  2545.4         369.5  \n",
       "1                  16.5   879.5         131.9  \n",
       "2                  26.2  1665.9         237.6  \n",
       "3                  37.2  2315.6         312.2  \n",
       "4                  12.7   727.0          93.3  "
      ]
     },
     "execution_count": 59,
     "metadata": {},
     "output_type": "execute_result"
    }
   ],
   "source": [
    "df.head()"
   ]
  },
  {
   "cell_type": "code",
   "execution_count": 60,
   "metadata": {},
   "outputs": [],
   "source": [
    "import sklearn.cluster as cluster\n",
    "from sklearn.cluster import KMeans "
   ]
  },
  {
   "cell_type": "code",
   "execution_count": 61,
   "metadata": {},
   "outputs": [],
   "source": [
    "kmns=cluster.KMeans(n_clusters=5)"
   ]
  },
  {
   "cell_type": "code",
   "execution_count": 62,
   "metadata": {},
   "outputs": [],
   "source": [
    "kmns=kmns.fit(df[['sex','Alberta']])"
   ]
  },
  {
   "cell_type": "code",
   "execution_count": 63,
   "metadata": {},
   "outputs": [
    {
     "data": {
      "text/plain": [
       "array([[0.00000000e+00, 1.91655333e+03],\n",
       "       [1.48395270e+00, 7.13796284e+02],\n",
       "       [1.23828756e+00, 1.40819386e+02],\n",
       "       [6.97429907e-01, 3.81967290e+02],\n",
       "       [8.19138756e-01, 1.13603033e+03]])"
      ]
     },
     "execution_count": 63,
     "metadata": {},
     "output_type": "execute_result"
    }
   ],
   "source": [
    "kmns.cluster_centers_"
   ]
  },
  {
   "cell_type": "code",
   "execution_count": 64,
   "metadata": {},
   "outputs": [],
   "source": [
    "df['sex by Alberta']=kmns.labels_"
   ]
  },
  {
   "cell_type": "code",
   "execution_count": 65,
   "metadata": {},
   "outputs": [],
   "source": [
    "k_range=range(1,15)\n",
    "wss=[]"
   ]
  },
  {
   "cell_type": "code",
   "execution_count": 67,
   "metadata": {},
   "outputs": [],
   "source": [
    "for k in k_range:\n",
    "    km=KMeans(n_clusters=k)\n",
    "    km.fit(df[['sex','Alberta']])\n",
    "    wss.append(km.inertia_)"
   ]
  },
  {
   "cell_type": "code",
   "execution_count": 68,
   "metadata": {},
   "outputs": [
    {
     "data": {
      "text/plain": [
       "[1361413196.1908329,\n",
       " 442361203.3658592,\n",
       " 185744981.81380844,\n",
       " 88665303.05629563,\n",
       " 66960753.78996722,\n",
       " 46139022.110093445,\n",
       " 31995401.860590186,\n",
       " 25352534.642232426,\n",
       " 20166470.592951547,\n",
       " 15530391.10748056,\n",
       " 12551268.859312544,\n",
       " 10559610.103527326,\n",
       " 8844632.791685287,\n",
       " 7712753.493594691]"
      ]
     },
     "execution_count": 68,
     "metadata": {},
     "output_type": "execute_result"
    }
   ],
   "source": [
    "wss"
   ]
  },
  {
   "cell_type": "code",
   "execution_count": 70,
   "metadata": {},
   "outputs": [
    {
     "data": {
      "text/plain": [
       "[<matplotlib.lines.Line2D at 0x253c8947ec8>]"
      ]
     },
     "execution_count": 70,
     "metadata": {},
     "output_type": "execute_result"
    },
    {
     "data": {
      "image/png": "[encoded data removed]",
      "text/plain": [
       "<Figure size 432x288 with 1 Axes>"
      ]
     },
     "metadata": {},
     "output_type": "display_data"
    }
   ],
   "source": [
    "plt.ylabel('Age')\n",
    "plt.xlabel('Surgery_type')\n",
    "plt.plot(k_range,wss)"
   ]
  },
  {
   "cell_type": "code",
   "execution_count": 71,
   "metadata": {},
   "outputs": [],
   "source": [
    "kmns=cluster.KMeans(n_clusters=5)"
   ]
  },
  {
   "cell_type": "code",
   "execution_count": 72,
   "metadata": {},
   "outputs": [],
   "source": [
    "kmns=kmns.fit(df[['sex','British Columbia']])"
   ]
  },
  {
   "cell_type": "code",
   "execution_count": 73,
   "metadata": {},
   "outputs": [
    {
     "data": {
      "text/plain": [
       "array([[1.11118090e+00, 2.29923367e+02],\n",
       "       [0.00000000e+00, 1.64885438e+03],\n",
       "       [1.24672321e+00, 1.06374603e+03],\n",
       "       [0.00000000e+00, 2.18093457e+03],\n",
       "       [1.17897480e+00, 6.49265421e+02]])"
      ]
     },
     "execution_count": 73,
     "metadata": {},
     "output_type": "execute_result"
    }
   ],
   "source": [
    "kmns.cluster_centers_"
   ]
  },
  {
   "cell_type": "code",
   "execution_count": 74,
   "metadata": {},
   "outputs": [],
   "source": [
    "df['sex by British Columbia']=kmns.labels_"
   ]
  },
  {
   "cell_type": "code",
   "execution_count": 75,
   "metadata": {},
   "outputs": [],
   "source": [
    "k_range=range(1,17)\n",
    "wss=[]"
   ]
  },
  {
   "cell_type": "code",
   "execution_count": 77,
   "metadata": {},
   "outputs": [],
   "source": [
    "for k in k_range:\n",
    "    km=KMeans(n_clusters=k)\n",
    "    km.fit(df[['sex','British Columbia']])\n",
    "    wss.append(km.inertia_)"
   ]
  },
  {
   "cell_type": "code",
   "execution_count": 78,
   "metadata": {},
   "outputs": [
    {
     "data": {
      "text/plain": [
       "[1536071707.0710354,\n",
       " 519121687.49861115,\n",
       " 191194208.06829274,\n",
       " 114534130.98301694,\n",
       " 76630206.6570095,\n",
       " 52095351.276383996,\n",
       " 37276873.360315226,\n",
       " 28395096.83945486,\n",
       " 21539626.96286357,\n",
       " 17016212.856409773,\n",
       " 14257341.964075048,\n",
       " 12281533.041405957,\n",
       " 10598466.615448734,\n",
       " 8972344.015354259,\n",
       " 7573444.957171144,\n",
       " 6460974.57419387]"
      ]
     },
     "execution_count": 78,
     "metadata": {},
     "output_type": "execute_result"
    }
   ],
   "source": [
    "wss"
   ]
  },
  {
   "cell_type": "code",
   "execution_count": 87,
   "metadata": {},
   "outputs": [
    {
     "data": {
      "text/plain": [
       "[<matplotlib.lines.Line2D at 0x253c9146cc8>]"
      ]
     },
     "execution_count": 87,
     "metadata": {},
     "output_type": "execute_result"
    },
    {
     "data": {
      "image/png": "[encoded data removed]",
      "text/plain": [
       "<Figure size 432x288 with 1 Axes>"
      ]
     },
     "metadata": {},
     "output_type": "display_data"
    }
   ],
   "source": [
    "plt.xlabel('sex')\n",
    "plt.ylabel('British Columbia')\n",
    "plt.plot(k_range,wss)"
   ]
  },
  {
   "cell_type": "code",
   "execution_count": 80,
   "metadata": {},
   "outputs": [],
   "source": [
    "kmns=cluster.KMeans(n_clusters=5)"
   ]
  },
  {
   "cell_type": "code",
   "execution_count": 81,
   "metadata": {},
   "outputs": [],
   "source": [
    "kmns=kmns.fit(df[['sex','Manitoba']])"
   ]
  },
  {
   "cell_type": "code",
   "execution_count": 82,
   "metadata": {},
   "outputs": [
    {
     "data": {
      "text/plain": [
       "array([[  1.68888889, 273.24156863],\n",
       "       [  0.        , 554.56699029],\n",
       "       [  1.26581265,  57.36773419],\n",
       "       [  0.        , 428.13858998],\n",
       "       [  0.63516484, 150.02824176]])"
      ]
     },
     "execution_count": 82,
     "metadata": {},
     "output_type": "execute_result"
    }
   ],
   "source": [
    "kmns.cluster_centers_"
   ]
  },
  {
   "cell_type": "code",
   "execution_count": 83,
   "metadata": {},
   "outputs": [],
   "source": [
    "df['sex by Manitoba']=km.labels_"
   ]
  },
  {
   "cell_type": "code",
   "execution_count": 84,
   "metadata": {},
   "outputs": [],
   "source": [
    "k_range=range(1,16)\n",
    "wss=[]"
   ]
  },
  {
   "cell_type": "code",
   "execution_count": 85,
   "metadata": {},
   "outputs": [],
   "source": [
    "for k in k_range:\n",
    "    km=KMeans(n_clusters=k)\n",
    "    km.fit(df[['sex','Manitoba']])\n",
    "    wss.append(km.inertia_)"
   ]
  },
  {
   "cell_type": "code",
   "execution_count": 86,
   "metadata": {},
   "outputs": [
    {
     "data": {
      "text/plain": [
       "[126051169.27469112,\n",
       " 41233644.11166449,\n",
       " 12383871.754476685,\n",
       " 8259239.304130839,\n",
       " 5297176.599528659,\n",
       " 3823002.6009607734,\n",
       " 2584314.4565894147,\n",
       " 1936806.9097608055,\n",
       " 1529071.3505458212,\n",
       " 1204184.232500292,\n",
       " 932154.7367490926,\n",
       " 776693.8412659292,\n",
       " 624016.6030034359,\n",
       " 525634.7394043405,\n",
       " 469601.8372370535]"
      ]
     },
     "execution_count": 86,
     "metadata": {},
     "output_type": "execute_result"
    }
   ],
   "source": [
    "wss"
   ]
  },
  {
   "cell_type": "code",
   "execution_count": 88,
   "metadata": {},
   "outputs": [
    {
     "data": {
      "text/plain": [
       "[<matplotlib.lines.Line2D at 0x253c9287348>]"
      ]
     },
     "execution_count": 88,
     "metadata": {},
     "output_type": "execute_result"
    },
    {
     "data": {
      "image/png": "[encoded data removed]",
      "text/plain": [
       "<Figure size 432x288 with 1 Axes>"
      ]
     },
     "metadata": {},
     "output_type": "display_data"
    }
   ],
   "source": [
    "plt.xlabel('sex')\n",
    "plt.ylabel('Manitoba')\n",
    "plt.plot(k_range,wss)"
   ]
  },
  {
   "cell_type": "code",
   "execution_count": 89,
   "metadata": {},
   "outputs": [
    {
     "data": {
      "text/html": [
       "<div>\n",
       "<style scoped>\n",
       "    .dataframe tbody tr th:only-of-type {\n",
       "        vertical-align: middle;\n",
       "    }\n",
       "\n",
       "    .dataframe tbody tr th {\n",
       "        vertical-align: top;\n",
       "    }\n",
       "\n",
       "    .dataframe thead th {\n",
       "        text-align: right;\n",
       "    }\n",
       "</style>\n",
       "<table border=\"1\" class=\"dataframe\">\n",
       "  <thead>\n",
       "    <tr style=\"text-align: right;\">\n",
       "      <th></th>\n",
       "      <th>variable</th>\n",
       "      <th>sex</th>\n",
       "      <th>Alberta</th>\n",
       "      <th>British Columbia</th>\n",
       "      <th>Manitoba</th>\n",
       "      <th>New Brunswick</th>\n",
       "      <th>Newfoundland and Labrador</th>\n",
       "      <th>Nova Scotia</th>\n",
       "      <th>Ontario</th>\n",
       "      <th>Prince Edward Island</th>\n",
       "      <th>Quebec</th>\n",
       "      <th>Saskatchewan</th>\n",
       "      <th>sex by Alberta</th>\n",
       "      <th>sex by British Columbia</th>\n",
       "      <th>sex by Manitoba</th>\n",
       "    </tr>\n",
       "  </thead>\n",
       "  <tbody>\n",
       "    <tr>\n",
       "      <th>0</th>\n",
       "      <td>Employment</td>\n",
       "      <td>0</td>\n",
       "      <td>819.5</td>\n",
       "      <td>1029.7</td>\n",
       "      <td>427.4</td>\n",
       "      <td>229.6</td>\n",
       "      <td>162.4</td>\n",
       "      <td>303.0</td>\n",
       "      <td>3707.4</td>\n",
       "      <td>42.7</td>\n",
       "      <td>2545.4</td>\n",
       "      <td>369.5</td>\n",
       "      <td>1</td>\n",
       "      <td>2</td>\n",
       "      <td>5</td>\n",
       "    </tr>\n",
       "    <tr>\n",
       "      <th>1</th>\n",
       "      <td>Employment</td>\n",
       "      <td>1</td>\n",
       "      <td>307.1</td>\n",
       "      <td>379.3</td>\n",
       "      <td>164.9</td>\n",
       "      <td>84.3</td>\n",
       "      <td>50.8</td>\n",
       "      <td>110.3</td>\n",
       "      <td>1426.7</td>\n",
       "      <td>16.5</td>\n",
       "      <td>879.5</td>\n",
       "      <td>131.9</td>\n",
       "      <td>3</td>\n",
       "      <td>0</td>\n",
       "      <td>13</td>\n",
       "    </tr>\n",
       "    <tr>\n",
       "      <th>2</th>\n",
       "      <td>Employment</td>\n",
       "      <td>2</td>\n",
       "      <td>512.5</td>\n",
       "      <td>650.4</td>\n",
       "      <td>262.6</td>\n",
       "      <td>145.3</td>\n",
       "      <td>111.6</td>\n",
       "      <td>192.7</td>\n",
       "      <td>2280.7</td>\n",
       "      <td>26.2</td>\n",
       "      <td>1665.9</td>\n",
       "      <td>237.6</td>\n",
       "      <td>3</td>\n",
       "      <td>4</td>\n",
       "      <td>11</td>\n",
       "    </tr>\n",
       "    <tr>\n",
       "      <th>3</th>\n",
       "      <td>Full-time employment</td>\n",
       "      <td>0</td>\n",
       "      <td>693.7</td>\n",
       "      <td>877.1</td>\n",
       "      <td>369.0</td>\n",
       "      <td>201.7</td>\n",
       "      <td>150.0</td>\n",
       "      <td>265.4</td>\n",
       "      <td>3209.1</td>\n",
       "      <td>37.2</td>\n",
       "      <td>2315.6</td>\n",
       "      <td>312.2</td>\n",
       "      <td>1</td>\n",
       "      <td>2</td>\n",
       "      <td>15</td>\n",
       "    </tr>\n",
       "    <tr>\n",
       "      <th>4</th>\n",
       "      <td>Full-time employment</td>\n",
       "      <td>1</td>\n",
       "      <td>217.9</td>\n",
       "      <td>274.6</td>\n",
       "      <td>119.8</td>\n",
       "      <td>62.7</td>\n",
       "      <td>42.1</td>\n",
       "      <td>84.6</td>\n",
       "      <td>1084.1</td>\n",
       "      <td>12.7</td>\n",
       "      <td>727.0</td>\n",
       "      <td>93.3</td>\n",
       "      <td>2</td>\n",
       "      <td>0</td>\n",
       "      <td>6</td>\n",
       "    </tr>\n",
       "  </tbody>\n",
       "</table>\n",
       "</div>"
      ],
      "text/plain": [
       "               variable  sex  Alberta  British Columbia  Manitoba  \\\n",
       "0            Employment    0    819.5            1029.7     427.4   \n",
       "1            Employment    1    307.1             379.3     164.9   \n",
       "2            Employment    2    512.5             650.4     262.6   \n",
       "3  Full-time employment    0    693.7             877.1     369.0   \n",
       "4  Full-time employment    1    217.9             274.6     119.8   \n",
       "\n",
       "   New Brunswick  Newfoundland and Labrador  Nova Scotia  Ontario  \\\n",
       "0          229.6                      162.4        303.0   3707.4   \n",
       "1           84.3                       50.8        110.3   1426.7   \n",
       "2          145.3                      111.6        192.7   2280.7   \n",
       "3          201.7                      150.0        265.4   3209.1   \n",
       "4           62.7                       42.1         84.6   1084.1   \n",
       "\n",
       "   Prince Edward Island  Quebec  Saskatchewan  sex by Alberta  \\\n",
       "0                  42.7  2545.4         369.5               1   \n",
       "1                  16.5   879.5         131.9               3   \n",
       "2                  26.2  1665.9         237.6               3   \n",
       "3                  37.2  2315.6         312.2               1   \n",
       "4                  12.7   727.0          93.3               2   \n",
       "\n",
       "   sex by British Columbia  sex by Manitoba  \n",
       "0                        2                5  \n",
       "1                        0               13  \n",
       "2                        4               11  \n",
       "3                        2               15  \n",
       "4                        0                6  "
      ]
     },
     "execution_count": 89,
     "metadata": {},
     "output_type": "execute_result"
    }
   ],
   "source": [
    "df.head()"
   ]
  },
  {
   "cell_type": "code",
   "execution_count": 90,
   "metadata": {
    "collapsed": true
   },
   "outputs": [
    {
     "data": {
      "text/plain": [
       "<matplotlib.axes._subplots.AxesSubplot at 0x253c7606988>"
      ]
     },
     "execution_count": 90,
     "metadata": {},
     "output_type": "execute_result"
    },
    {
     "data": {
      "image/png": "[encoded data removed]",
      "text/plain": [
       "<Figure size 1080x936 with 1 Axes>"
      ]
     },
     "metadata": {},
     "output_type": "display_data"
    }
   ],
   "source": [
    "plt.figure(figsize = (15,13))\n",
    "df.sex.value_counts().plot(kind='pie')"
   ]
  },
  {
   "cell_type": "code",
   "execution_count": 94,
   "metadata": {
    "collapsed": true
   },
   "outputs": [
    {
     "data": {
      "image/png": "[encoded data removed]",
      "text/plain": [
       "<Figure size 1080x936 with 2 Axes>"
      ]
     },
     "metadata": {},
     "output_type": "display_data"
    }
   ],
   "source": [
    "plt.figure(figsize=(15,13))\n",
    "cmap = sns.diverging_palette(230, 20, as_cmap=True)\n",
    "sns.heatmap(df.corr(),annot=True,cmap='Dark2_r',linewidths=2)\n",
    "plt.show()"
   ]
  },
  {
   "cell_type": "code",
   "execution_count": 91,
   "metadata": {
    "collapsed": true
   },
   "outputs": [
    {
     "data": {
      "text/plain": [
       "<matplotlib.axes._subplots.AxesSubplot at 0x253c967a208>"
      ]
     },
     "execution_count": 91,
     "metadata": {},
     "output_type": "execute_result"
    },
    {
     "data": {
      "image/png": "[encoded data removed]",
      "text/plain": [
       "<Figure size 1080x864 with 2 Axes>"
      ]
     },
     "metadata": {},
     "output_type": "display_data"
    }
   ],
   "source": [
    "plt.figure(figsize=(15,12))\n",
    "sns.heatmap(df.corr(),annot=True)"
   ]
  },
  {
   "cell_type": "code",
   "execution_count": 93,
   "metadata": {
    "collapsed": true
   },
   "outputs": [
    {
     "data": {
      "text/plain": [
       "<matplotlib.axes._subplots.AxesSubplot at 0x253c77d2a88>"
      ]
     },
     "execution_count": 93,
     "metadata": {},
     "output_type": "execute_result"
    },
    {
     "data": {
      "image/png": "[encoded data removed]",
      "text/plain": [
       "<Figure size 432x288 with 1 Axes>"
      ]
     },
     "metadata": {},
     "output_type": "display_data"
    }
   ],
   "source": [
    "sns.scatterplot(x='sex',y='Alberta',data=df,color='red')"
   ]
  },
  {
   "cell_type": "code",
   "execution_count": 95,
   "metadata": {
    "collapsed": true
   },
   "outputs": [
    {
     "data": {
      "text/plain": [
       "<matplotlib.axes._subplots.AxesSubplot at 0x253c9ab23c8>"
      ]
     },
     "execution_count": 95,
     "metadata": {},
     "output_type": "execute_result"
    },
    {
     "data": {
      "image/png": "[encoded data removed]",
      "text/plain": [
       "<Figure size 1080x648 with 1 Axes>"
      ]
     },
     "metadata": {},
     "output_type": "display_data"
    }
   ],
   "source": [
    "plt.figure(figsize=(15,9))\n",
    "sns.boxplot(x='sex',y='British Columbia',data=df)"
   ]
  },
  {
   "cell_type": "code",
   "execution_count": 96,
   "metadata": {
    "collapsed": true
   },
   "outputs": [
    {
     "data": {
      "text/plain": [
       "<matplotlib.axes._subplots.AxesSubplot at 0x253c7a6d648>"
      ]
     },
     "execution_count": 96,
     "metadata": {},
     "output_type": "execute_result"
    },
    {
     "data": {
      "image/png": "[encoded data removed]",
      "text/plain": [
       "<Figure size 1080x648 with 1 Axes>"
      ]
     },
     "metadata": {},
     "output_type": "display_data"
    }
   ],
   "source": [
    "plt.figure(figsize=(15,9))\n",
    "sns.boxenplot(x='sex',y='Manitoba',data=df)"
   ]
  },
  {
   "cell_type": "code",
   "execution_count": 97,
   "metadata": {
    "collapsed": true
   },
   "outputs": [
    {
     "data": {
      "text/plain": [
       "<matplotlib.axes._subplots.AxesSubplot at 0x253c78f1408>"
      ]
     },
     "execution_count": 97,
     "metadata": {},
     "output_type": "execute_result"
    },
    {
     "data": {
      "image/png": "[encoded data removed]",
      "text/plain": [
       "<Figure size 1080x648 with 1 Axes>"
      ]
     },
     "metadata": {},
     "output_type": "display_data"
    }
   ],
   "source": [
    "plt.figure(figsize=(15,9))\n",
    "sns.barplot(x='sex',y='New Brunswick',data=df)"
   ]
  },
  {
   "cell_type": "code",
   "execution_count": 100,
   "metadata": {
    "collapsed": true
   },
   "outputs": [
    {
     "data": {
      "text/plain": [
       "<matplotlib.axes._subplots.AxesSubplot at 0x253ca037e48>"
      ]
     },
     "execution_count": 100,
     "metadata": {},
     "output_type": "execute_result"
    },
    {
     "data": {
      "image/png": "[encoded data removed]",
      "text/plain": [
       "<Figure size 1080x648 with 1 Axes>"
      ]
     },
     "metadata": {},
     "output_type": "display_data"
    }
   ],
   "source": [
    "plt.figure(figsize=(15,9))\n",
    "sns.distplot(df['Newfoundland and Labrador'],color='red')"
   ]
  },
  {
   "cell_type": "code",
   "execution_count": 101,
   "metadata": {
    "collapsed": true
   },
   "outputs": [
    {
     "data": {
      "text/plain": [
       "<matplotlib.axes._subplots.AxesSubplot at 0x253c96bad88>"
      ]
     },
     "execution_count": 101,
     "metadata": {},
     "output_type": "execute_result"
    },
    {
     "data": {
      "image/png": "[encoded data removed]",
      "text/plain": [
       "<Figure size 1080x648 with 1 Axes>"
      ]
     },
     "metadata": {},
     "output_type": "display_data"
    }
   ],
   "source": [
    "plt.figure(figsize=(15,9))\n",
    "sns.lineplot(x='sex', y='Nova Scotia',data=df,color=\"red\")"
   ]
  },
  {
   "cell_type": "code",
   "execution_count": 103,
   "metadata": {},
   "outputs": [
    {
     "data": {
      "text/plain": [
       "Index(['variable', 'sex', 'Alberta', 'British Columbia', 'Manitoba',\n",
       "       'New Brunswick', 'Newfoundland and Labrador', 'Nova Scotia', 'Ontario',\n",
       "       'Prince Edward Island', 'Quebec', 'Saskatchewan', 'sex by Alberta',\n",
       "       'sex by British Columbia', 'sex by Manitoba'],\n",
       "      dtype='object')"
      ]
     },
     "execution_count": 103,
     "metadata": {},
     "output_type": "execute_result"
    }
   ],
   "source": [
    "df.columns\n"
   ]
  },
  {
   "cell_type": "code",
   "execution_count": 105,
   "metadata": {
    "collapsed": true
   },
   "outputs": [
    {
     "data": {
      "text/plain": [
       "<matplotlib.axes._subplots.AxesSubplot at 0x253c8e5f2c8>"
      ]
     },
     "execution_count": 105,
     "metadata": {},
     "output_type": "execute_result"
    },
    {
     "data": {
      "image/png": "[encoded data removed]",
      "text/plain": [
       "<Figure size 1080x648 with 1 Axes>"
      ]
     },
     "metadata": {},
     "output_type": "display_data"
    }
   ],
   "source": [
    "plt.figure(figsize=(15,9))\n",
    "sns.pointplot(x='sex',y='Ontario',data=df,color='red')"
   ]
  },
  {
   "cell_type": "code",
   "execution_count": 107,
   "metadata": {
    "collapsed": true
   },
   "outputs": [
    {
     "data": {
      "text/plain": [
       "<seaborn.axisgrid.JointGrid at 0x253c96ac408>"
      ]
     },
     "execution_count": 107,
     "metadata": {},
     "output_type": "execute_result"
    },
    {
     "data": {
      "text/plain": [
       "<Figure size 1080x648 with 0 Axes>"
      ]
     },
     "metadata": {},
     "output_type": "display_data"
    },
    {
     "data": {
      "image/png": "[encoded data removed]",
      "text/plain": [
       "<Figure size 432x432 with 3 Axes>"
      ]
     },
     "metadata": {},
     "output_type": "display_data"
    }
   ],
   "source": [
    "plt.figure(figsize=(15,9))\n",
    "sns.jointplot(x='sex',y='Prince Edward Island',data=df,kind='kde',color='red')"
   ]
  },
  {
   "cell_type": "code",
   "execution_count": 108,
   "metadata": {
    "collapsed": true
   },
   "outputs": [
    {
     "data": {
      "text/plain": [
       "<matplotlib.axes._subplots.AxesSubplot at 0x253c7957f88>"
      ]
     },
     "execution_count": 108,
     "metadata": {},
     "output_type": "execute_result"
    },
    {
     "data": {
      "image/png": "[encoded data removed]",
      "text/plain": [
       "<Figure size 432x288 with 1 Axes>"
      ]
     },
     "metadata": {},
     "output_type": "display_data"
    }
   ],
   "source": [
    "sns.kdeplot(df['Alberta'])\n",
    "sns.kdeplot(df['British Columbia'])\n",
    "sns.kdeplot(df['Manitoba'])"
   ]
  },
  {
   "cell_type": "code",
   "execution_count": 109,
   "metadata": {
    "collapsed": true
   },
   "outputs": [
    {
     "data": {
      "text/plain": [
       "<matplotlib.axes._subplots.AxesSubplot at 0x253c798f2c8>"
      ]
     },
     "execution_count": 109,
     "metadata": {},
     "output_type": "execute_result"
    },
    {
     "data": {
      "image/png": "[encoded data removed]",
      "text/plain": [
       "<Figure size 432x288 with 1 Axes>"
      ]
     },
     "metadata": {},
     "output_type": "display_data"
    }
   ],
   "source": [
    "sns.violinplot(y=\"New Brunswick\",data=df)\n",
    "sns.violinplot(y=\"Newfoundland and Labrador\",data=df,color='orange')\n",
    "sns.violinplot(y=\"Nova Scotia\",data=df,color='red')"
   ]
  },
  {
   "cell_type": "code",
   "execution_count": 110,
   "metadata": {
    "collapsed": true
   },
   "outputs": [
    {
     "data": {
      "text/plain": [
       "<matplotlib.axes._subplots.AxesSubplot at 0x253ca20e308>"
      ]
     },
     "execution_count": 110,
     "metadata": {},
     "output_type": "execute_result"
    },
    {
     "data": {
      "image/png": "[encoded data removed]",
      "text/plain": [
       "<Figure size 432x288 with 1 Axes>"
      ]
     },
     "metadata": {},
     "output_type": "display_data"
    }
   ],
   "source": [
    "df.boxplot(column=\"Ontario\")\n",
    "df.boxplot(column=\"Prince Edward Island\",color='orange')\n",
    "df.boxplot(column=\"Quebec\",color='red')"
   ]
  },
  {
   "cell_type": "code",
   "execution_count": 111,
   "metadata": {},
   "outputs": [],
   "source": [
    "import sweetviz as sv"
   ]
  },
  {
   "cell_type": "code",
   "execution_count": 112,
   "metadata": {},
   "outputs": [
    {
     "data": {
      "application/vnd.jupyter.widget-view+json": {
       "model_id": "087a98b4e63e41d38cfb9a296d8b49bd",
       "version_major": 2,
       "version_minor": 0
      },
      "text/plain": [
       "                                             |                                             | [  0%]   00:00 ->…"
      ]
     },
     "metadata": {},
     "output_type": "display_data"
    },
    {
     "name": "stdout",
     "output_type": "stream",
     "text": [
      "Report Analyze.html was generated! NOTEBOOK/COLAB USERS: the web browser MAY not pop up, regardless, the report IS saved in your notebook/colab files.\n"
     ]
    }
   ],
   "source": [
    "data=sv.analyze(df)\n",
    "data.show_html('Analyze.html')"
   ]
  },
  {
   "cell_type": "code",
   "execution_count": 113,
   "metadata": {},
   "outputs": [],
   "source": [
    "from IPython.display import IFrame"
   ]
  },
  {
   "cell_type": "code",
   "execution_count": 114,
   "metadata": {
    "collapsed": true
   },
   "outputs": [
    {
     "data": {
      "text/html": [
       "\n",
       "        <iframe\n",
       "            width=\"1000\"\n",
       "            height=\"600\"\n",
       "            src=\"Analyze.html\"\n",
       "            frameborder=\"0\"\n",
       "            allowfullscreen\n",
       "        ></iframe>\n",
       "        "
      ],
      "text/plain": [
       "<IPython.lib.display.IFrame at 0x253d381bd48>"
      ]
     },
     "execution_count": 114,
     "metadata": {},
     "output_type": "execute_result"
    }
   ],
   "source": [
    "IFrame(src='Analyze.html',width=1000,height=600)"
   ]
  },
  {
   "cell_type": "code",
   "execution_count": 115,
   "metadata": {},
   "outputs": [
    {
     "data": {
      "text/plain": [
       "Index(['variable', 'sex', 'Alberta', 'British Columbia', 'Manitoba',\n",
       "       'New Brunswick', 'Newfoundland and Labrador', 'Nova Scotia', 'Ontario',\n",
       "       'Prince Edward Island', 'Quebec', 'Saskatchewan', 'sex by Alberta',\n",
       "       'sex by British Columbia', 'sex by Manitoba'],\n",
       "      dtype='object')"
      ]
     },
     "execution_count": 115,
     "metadata": {},
     "output_type": "execute_result"
    }
   ],
   "source": [
    "df.columns"
   ]
  },
  {
   "cell_type": "code",
   "execution_count": 116,
   "metadata": {},
   "outputs": [],
   "source": [
    "from sklearn.preprocessing import MinMaxScaler\n",
    "from sklearn.preprocessing import StandardScaler"
   ]
  },
  {
   "cell_type": "code",
   "execution_count": 117,
   "metadata": {},
   "outputs": [
    {
     "data": {
      "text/html": [
       "<div>\n",
       "<style scoped>\n",
       "    .dataframe tbody tr th:only-of-type {\n",
       "        vertical-align: middle;\n",
       "    }\n",
       "\n",
       "    .dataframe tbody tr th {\n",
       "        vertical-align: top;\n",
       "    }\n",
       "\n",
       "    .dataframe thead th {\n",
       "        text-align: right;\n",
       "    }\n",
       "</style>\n",
       "<table border=\"1\" class=\"dataframe\">\n",
       "  <thead>\n",
       "    <tr style=\"text-align: right;\">\n",
       "      <th></th>\n",
       "      <th>sex</th>\n",
       "      <th>Alberta</th>\n",
       "      <th>British Columbia</th>\n",
       "      <th>Manitoba</th>\n",
       "      <th>New Brunswick</th>\n",
       "      <th>Newfoundland and Labrador</th>\n",
       "      <th>Nova Scotia</th>\n",
       "      <th>Ontario</th>\n",
       "      <th>Prince Edward Island</th>\n",
       "      <th>Quebec</th>\n",
       "      <th>Saskatchewan</th>\n",
       "      <th>sex by Alberta</th>\n",
       "      <th>sex by British Columbia</th>\n",
       "      <th>sex by Manitoba</th>\n",
       "    </tr>\n",
       "  </thead>\n",
       "  <tbody>\n",
       "    <tr>\n",
       "      <th>0</th>\n",
       "      <td>0.0</td>\n",
       "      <td>0.338791</td>\n",
       "      <td>0.389795</td>\n",
       "      <td>0.642613</td>\n",
       "      <td>0.625209</td>\n",
       "      <td>0.654194</td>\n",
       "      <td>0.638877</td>\n",
       "      <td>0.483321</td>\n",
       "      <td>0.531613</td>\n",
       "      <td>0.574787</td>\n",
       "      <td>0.623612</td>\n",
       "      <td>0.25</td>\n",
       "      <td>0.5</td>\n",
       "      <td>0.333333</td>\n",
       "    </tr>\n",
       "    <tr>\n",
       "      <th>1</th>\n",
       "      <td>0.5</td>\n",
       "      <td>0.118575</td>\n",
       "      <td>0.133530</td>\n",
       "      <td>0.235258</td>\n",
       "      <td>0.220924</td>\n",
       "      <td>0.195312</td>\n",
       "      <td>0.219417</td>\n",
       "      <td>0.174178</td>\n",
       "      <td>0.193548</td>\n",
       "      <td>0.188590</td>\n",
       "      <td>0.204934</td>\n",
       "      <td>0.75</td>\n",
       "      <td>0.0</td>\n",
       "      <td>0.866667</td>\n",
       "    </tr>\n",
       "    <tr>\n",
       "      <th>2</th>\n",
       "      <td>1.0</td>\n",
       "      <td>0.206851</td>\n",
       "      <td>0.240347</td>\n",
       "      <td>0.386872</td>\n",
       "      <td>0.390651</td>\n",
       "      <td>0.445312</td>\n",
       "      <td>0.398781</td>\n",
       "      <td>0.289936</td>\n",
       "      <td>0.318710</td>\n",
       "      <td>0.370897</td>\n",
       "      <td>0.391189</td>\n",
       "      <td>0.75</td>\n",
       "      <td>1.0</td>\n",
       "      <td>0.733333</td>\n",
       "    </tr>\n",
       "    <tr>\n",
       "      <th>3</th>\n",
       "      <td>0.0</td>\n",
       "      <td>0.284726</td>\n",
       "      <td>0.329669</td>\n",
       "      <td>0.551986</td>\n",
       "      <td>0.547579</td>\n",
       "      <td>0.603207</td>\n",
       "      <td>0.557031</td>\n",
       "      <td>0.415778</td>\n",
       "      <td>0.460645</td>\n",
       "      <td>0.521513</td>\n",
       "      <td>0.522643</td>\n",
       "      <td>0.25</td>\n",
       "      <td>0.5</td>\n",
       "      <td>1.000000</td>\n",
       "    </tr>\n",
       "    <tr>\n",
       "      <th>4</th>\n",
       "      <td>0.5</td>\n",
       "      <td>0.080239</td>\n",
       "      <td>0.092277</td>\n",
       "      <td>0.165270</td>\n",
       "      <td>0.160824</td>\n",
       "      <td>0.159539</td>\n",
       "      <td>0.163474</td>\n",
       "      <td>0.127740</td>\n",
       "      <td>0.144516</td>\n",
       "      <td>0.153236</td>\n",
       "      <td>0.136916</td>\n",
       "      <td>0.50</td>\n",
       "      <td>0.0</td>\n",
       "      <td>0.400000</td>\n",
       "    </tr>\n",
       "    <tr>\n",
       "      <th>...</th>\n",
       "      <td>...</td>\n",
       "      <td>...</td>\n",
       "      <td>...</td>\n",
       "      <td>...</td>\n",
       "      <td>...</td>\n",
       "      <td>...</td>\n",
       "      <td>...</td>\n",
       "      <td>...</td>\n",
       "      <td>...</td>\n",
       "      <td>...</td>\n",
       "      <td>...</td>\n",
       "      <td>...</td>\n",
       "      <td>...</td>\n",
       "      <td>...</td>\n",
       "    </tr>\n",
       "    <tr>\n",
       "      <th>4738</th>\n",
       "      <td>0.5</td>\n",
       "      <td>0.325425</td>\n",
       "      <td>0.323286</td>\n",
       "      <td>0.324333</td>\n",
       "      <td>0.376461</td>\n",
       "      <td>0.340049</td>\n",
       "      <td>0.364606</td>\n",
       "      <td>0.347936</td>\n",
       "      <td>0.375484</td>\n",
       "      <td>0.349847</td>\n",
       "      <td>0.320881</td>\n",
       "      <td>0.25</td>\n",
       "      <td>0.5</td>\n",
       "      <td>1.000000</td>\n",
       "    </tr>\n",
       "    <tr>\n",
       "      <th>4739</th>\n",
       "      <td>1.0</td>\n",
       "      <td>0.473956</td>\n",
       "      <td>0.432467</td>\n",
       "      <td>0.453755</td>\n",
       "      <td>0.434057</td>\n",
       "      <td>0.412418</td>\n",
       "      <td>0.423378</td>\n",
       "      <td>0.443226</td>\n",
       "      <td>0.447742</td>\n",
       "      <td>0.434301</td>\n",
       "      <td>0.461498</td>\n",
       "      <td>1.00</td>\n",
       "      <td>0.5</td>\n",
       "      <td>0.666667</td>\n",
       "    </tr>\n",
       "    <tr>\n",
       "      <th>4740</th>\n",
       "      <td>0.0</td>\n",
       "      <td>0.165506</td>\n",
       "      <td>0.201340</td>\n",
       "      <td>0.171477</td>\n",
       "      <td>0.134112</td>\n",
       "      <td>0.138980</td>\n",
       "      <td>0.166086</td>\n",
       "      <td>0.170315</td>\n",
       "      <td>0.136774</td>\n",
       "      <td>0.172594</td>\n",
       "      <td>0.159295</td>\n",
       "      <td>0.75</td>\n",
       "      <td>1.0</td>\n",
       "      <td>0.000000</td>\n",
       "    </tr>\n",
       "    <tr>\n",
       "      <th>4741</th>\n",
       "      <td>0.5</td>\n",
       "      <td>0.110624</td>\n",
       "      <td>0.124232</td>\n",
       "      <td>0.105369</td>\n",
       "      <td>0.078742</td>\n",
       "      <td>0.088816</td>\n",
       "      <td>0.101654</td>\n",
       "      <td>0.101389</td>\n",
       "      <td>0.083871</td>\n",
       "      <td>0.100496</td>\n",
       "      <td>0.096211</td>\n",
       "      <td>0.75</td>\n",
       "      <td>0.0</td>\n",
       "      <td>0.866667</td>\n",
       "    </tr>\n",
       "    <tr>\n",
       "      <th>4742</th>\n",
       "      <td>1.0</td>\n",
       "      <td>0.041473</td>\n",
       "      <td>0.061190</td>\n",
       "      <td>0.045469</td>\n",
       "      <td>0.041736</td>\n",
       "      <td>0.036595</td>\n",
       "      <td>0.043753</td>\n",
       "      <td>0.049719</td>\n",
       "      <td>0.033548</td>\n",
       "      <td>0.056797</td>\n",
       "      <td>0.035595</td>\n",
       "      <td>0.50</td>\n",
       "      <td>0.0</td>\n",
       "      <td>0.200000</td>\n",
       "    </tr>\n",
       "  </tbody>\n",
       "</table>\n",
       "<p>4743 rows × 14 columns</p>\n",
       "</div>"
      ],
      "text/plain": [
       "      sex   Alberta  British Columbia  Manitoba  New Brunswick  \\\n",
       "0     0.0  0.338791          0.389795  0.642613       0.625209   \n",
       "1     0.5  0.118575          0.133530  0.235258       0.220924   \n",
       "2     1.0  0.206851          0.240347  0.386872       0.390651   \n",
       "3     0.0  0.284726          0.329669  0.551986       0.547579   \n",
       "4     0.5  0.080239          0.092277  0.165270       0.160824   \n",
       "...   ...       ...               ...       ...            ...   \n",
       "4738  0.5  0.325425          0.323286  0.324333       0.376461   \n",
       "4739  1.0  0.473956          0.432467  0.453755       0.434057   \n",
       "4740  0.0  0.165506          0.201340  0.171477       0.134112   \n",
       "4741  0.5  0.110624          0.124232  0.105369       0.078742   \n",
       "4742  1.0  0.041473          0.061190  0.045469       0.041736   \n",
       "\n",
       "      Newfoundland and Labrador  Nova Scotia   Ontario  Prince Edward Island  \\\n",
       "0                      0.654194     0.638877  0.483321              0.531613   \n",
       "1                      0.195312     0.219417  0.174178              0.193548   \n",
       "2                      0.445312     0.398781  0.289936              0.318710   \n",
       "3                      0.603207     0.557031  0.415778              0.460645   \n",
       "4                      0.159539     0.163474  0.127740              0.144516   \n",
       "...                         ...          ...       ...                   ...   \n",
       "4738                   0.340049     0.364606  0.347936              0.375484   \n",
       "4739                   0.412418     0.423378  0.443226              0.447742   \n",
       "4740                   0.138980     0.166086  0.170315              0.136774   \n",
       "4741                   0.088816     0.101654  0.101389              0.083871   \n",
       "4742                   0.036595     0.043753  0.049719              0.033548   \n",
       "\n",
       "        Quebec  Saskatchewan  sex by Alberta  sex by British Columbia  \\\n",
       "0     0.574787      0.623612            0.25                      0.5   \n",
       "1     0.188590      0.204934            0.75                      0.0   \n",
       "2     0.370897      0.391189            0.75                      1.0   \n",
       "3     0.521513      0.522643            0.25                      0.5   \n",
       "4     0.153236      0.136916            0.50                      0.0   \n",
       "...        ...           ...             ...                      ...   \n",
       "4738  0.349847      0.320881            0.25                      0.5   \n",
       "4739  0.434301      0.461498            1.00                      0.5   \n",
       "4740  0.172594      0.159295            0.75                      1.0   \n",
       "4741  0.100496      0.096211            0.75                      0.0   \n",
       "4742  0.056797      0.035595            0.50                      0.0   \n",
       "\n",
       "      sex by Manitoba  \n",
       "0            0.333333  \n",
       "1            0.866667  \n",
       "2            0.733333  \n",
       "3            1.000000  \n",
       "4            0.400000  \n",
       "...               ...  \n",
       "4738         1.000000  \n",
       "4739         0.666667  \n",
       "4740         0.000000  \n",
       "4741         0.866667  \n",
       "4742         0.200000  \n",
       "\n",
       "[4743 rows x 14 columns]"
      ]
     },
     "execution_count": 117,
     "metadata": {},
     "output_type": "execute_result"
    }
   ],
   "source": [
    "man=MinMaxScaler()\n",
    "feat=[ 'sex', 'Alberta', 'British Columbia', 'Manitoba',\n",
    "       'New Brunswick', 'Newfoundland and Labrador', 'Nova Scotia', 'Ontario',\n",
    "       'Prince Edward Island', 'Quebec', 'Saskatchewan', 'sex by Alberta',\n",
    "       'sex by British Columbia', 'sex by Manitoba']\n",
    "df[feat]=man.fit_transform(df[feat])\n",
    "df[feat]"
   ]
  },
  {
   "cell_type": "code",
   "execution_count": 118,
   "metadata": {},
   "outputs": [
    {
     "data": {
      "text/html": [
       "<div>\n",
       "<style scoped>\n",
       "    .dataframe tbody tr th:only-of-type {\n",
       "        vertical-align: middle;\n",
       "    }\n",
       "\n",
       "    .dataframe tbody tr th {\n",
       "        vertical-align: top;\n",
       "    }\n",
       "\n",
       "    .dataframe thead th {\n",
       "        text-align: right;\n",
       "    }\n",
       "</style>\n",
       "<table border=\"1\" class=\"dataframe\">\n",
       "  <thead>\n",
       "    <tr style=\"text-align: right;\">\n",
       "      <th></th>\n",
       "      <th>sex</th>\n",
       "      <th>Alberta</th>\n",
       "      <th>British Columbia</th>\n",
       "      <th>Manitoba</th>\n",
       "      <th>New Brunswick</th>\n",
       "      <th>Newfoundland and Labrador</th>\n",
       "      <th>Nova Scotia</th>\n",
       "      <th>Ontario</th>\n",
       "      <th>Prince Edward Island</th>\n",
       "      <th>Quebec</th>\n",
       "      <th>Saskatchewan</th>\n",
       "      <th>sex by Alberta</th>\n",
       "      <th>sex by British Columbia</th>\n",
       "      <th>sex by Manitoba</th>\n",
       "    </tr>\n",
       "  </thead>\n",
       "  <tbody>\n",
       "    <tr>\n",
       "      <th>0</th>\n",
       "      <td>-1.224745</td>\n",
       "      <td>0.215793</td>\n",
       "      <td>0.403297</td>\n",
       "      <td>1.144007</td>\n",
       "      <td>0.933094</td>\n",
       "      <td>1.111963</td>\n",
       "      <td>1.059313</td>\n",
       "      <td>0.705562</td>\n",
       "      <td>0.841691</td>\n",
       "      <td>0.994269</td>\n",
       "      <td>1.081486</td>\n",
       "      <td>-0.936287</td>\n",
       "      <td>0.142365</td>\n",
       "      <td>-0.593480</td>\n",
       "    </tr>\n",
       "    <tr>\n",
       "      <th>1</th>\n",
       "      <td>0.000000</td>\n",
       "      <td>-0.740610</td>\n",
       "      <td>-0.739586</td>\n",
       "      <td>-0.466223</td>\n",
       "      <td>-0.550199</td>\n",
       "      <td>-0.607457</td>\n",
       "      <td>-0.538644</td>\n",
       "      <td>-0.599945</td>\n",
       "      <td>-0.541300</td>\n",
       "      <td>-0.585943</td>\n",
       "      <td>-0.563625</td>\n",
       "      <td>0.630689</td>\n",
       "      <td>-1.145027</td>\n",
       "      <td>1.140618</td>\n",
       "    </tr>\n",
       "    <tr>\n",
       "      <th>2</th>\n",
       "      <td>1.224745</td>\n",
       "      <td>-0.357228</td>\n",
       "      <td>-0.263209</td>\n",
       "      <td>0.133090</td>\n",
       "      <td>0.072518</td>\n",
       "      <td>0.329288</td>\n",
       "      <td>0.144655</td>\n",
       "      <td>-0.111103</td>\n",
       "      <td>-0.029277</td>\n",
       "      <td>0.160008</td>\n",
       "      <td>0.168228</td>\n",
       "      <td>0.630689</td>\n",
       "      <td>1.429757</td>\n",
       "      <td>0.707094</td>\n",
       "    </tr>\n",
       "    <tr>\n",
       "      <th>3</th>\n",
       "      <td>-1.224745</td>\n",
       "      <td>-0.019015</td>\n",
       "      <td>0.135148</td>\n",
       "      <td>0.785769</td>\n",
       "      <td>0.648277</td>\n",
       "      <td>0.920916</td>\n",
       "      <td>0.747517</td>\n",
       "      <td>0.420328</td>\n",
       "      <td>0.551368</td>\n",
       "      <td>0.776289</td>\n",
       "      <td>0.684749</td>\n",
       "      <td>-0.936287</td>\n",
       "      <td>0.142365</td>\n",
       "      <td>1.574143</td>\n",
       "    </tr>\n",
       "    <tr>\n",
       "      <th>4</th>\n",
       "      <td>0.000000</td>\n",
       "      <td>-0.907104</td>\n",
       "      <td>-0.923565</td>\n",
       "      <td>-0.742875</td>\n",
       "      <td>-0.770703</td>\n",
       "      <td>-0.741498</td>\n",
       "      <td>-0.751760</td>\n",
       "      <td>-0.796055</td>\n",
       "      <td>-0.741886</td>\n",
       "      <td>-0.730599</td>\n",
       "      <td>-0.830887</td>\n",
       "      <td>-0.152799</td>\n",
       "      <td>-1.145027</td>\n",
       "      <td>-0.376718</td>\n",
       "    </tr>\n",
       "    <tr>\n",
       "      <th>...</th>\n",
       "      <td>...</td>\n",
       "      <td>...</td>\n",
       "      <td>...</td>\n",
       "      <td>...</td>\n",
       "      <td>...</td>\n",
       "      <td>...</td>\n",
       "      <td>...</td>\n",
       "      <td>...</td>\n",
       "      <td>...</td>\n",
       "      <td>...</td>\n",
       "      <td>...</td>\n",
       "      <td>...</td>\n",
       "      <td>...</td>\n",
       "      <td>...</td>\n",
       "    </tr>\n",
       "    <tr>\n",
       "      <th>4738</th>\n",
       "      <td>0.000000</td>\n",
       "      <td>0.157745</td>\n",
       "      <td>0.106682</td>\n",
       "      <td>-0.114119</td>\n",
       "      <td>0.020455</td>\n",
       "      <td>-0.065131</td>\n",
       "      <td>0.014463</td>\n",
       "      <td>0.133834</td>\n",
       "      <td>0.202981</td>\n",
       "      <td>0.073878</td>\n",
       "      <td>-0.108035</td>\n",
       "      <td>-0.936287</td>\n",
       "      <td>0.142365</td>\n",
       "      <td>1.574143</td>\n",
       "    </tr>\n",
       "    <tr>\n",
       "      <th>4739</th>\n",
       "      <td>1.224745</td>\n",
       "      <td>0.802813</td>\n",
       "      <td>0.593602</td>\n",
       "      <td>0.397474</td>\n",
       "      <td>0.231771</td>\n",
       "      <td>0.206032</td>\n",
       "      <td>0.238360</td>\n",
       "      <td>0.536242</td>\n",
       "      <td>0.498583</td>\n",
       "      <td>0.419440</td>\n",
       "      <td>0.444490</td>\n",
       "      <td>1.414177</td>\n",
       "      <td>0.142365</td>\n",
       "      <td>0.490331</td>\n",
       "    </tr>\n",
       "    <tr>\n",
       "      <th>4740</th>\n",
       "      <td>-1.224745</td>\n",
       "      <td>-0.536787</td>\n",
       "      <td>-0.437172</td>\n",
       "      <td>-0.718339</td>\n",
       "      <td>-0.868704</td>\n",
       "      <td>-0.818533</td>\n",
       "      <td>-0.741809</td>\n",
       "      <td>-0.616259</td>\n",
       "      <td>-0.773558</td>\n",
       "      <td>-0.651393</td>\n",
       "      <td>-0.742953</td>\n",
       "      <td>0.630689</td>\n",
       "      <td>1.429757</td>\n",
       "      <td>-1.677291</td>\n",
       "    </tr>\n",
       "    <tr>\n",
       "      <th>4741</th>\n",
       "      <td>0.000000</td>\n",
       "      <td>-0.775141</td>\n",
       "      <td>-0.781056</td>\n",
       "      <td>-0.979656</td>\n",
       "      <td>-1.071853</td>\n",
       "      <td>-1.006498</td>\n",
       "      <td>-0.987266</td>\n",
       "      <td>-0.907332</td>\n",
       "      <td>-0.989980</td>\n",
       "      <td>-0.946397</td>\n",
       "      <td>-0.990828</td>\n",
       "      <td>0.630689</td>\n",
       "      <td>-1.145027</td>\n",
       "      <td>1.140618</td>\n",
       "    </tr>\n",
       "    <tr>\n",
       "      <th>4742</th>\n",
       "      <td>1.224745</td>\n",
       "      <td>-1.075464</td>\n",
       "      <td>-1.062208</td>\n",
       "      <td>-1.216436</td>\n",
       "      <td>-1.207626</td>\n",
       "      <td>-1.202167</td>\n",
       "      <td>-1.207845</td>\n",
       "      <td>-1.125537</td>\n",
       "      <td>-1.195845</td>\n",
       "      <td>-1.125201</td>\n",
       "      <td>-1.229009</td>\n",
       "      <td>-0.152799</td>\n",
       "      <td>-1.145027</td>\n",
       "      <td>-1.027004</td>\n",
       "    </tr>\n",
       "  </tbody>\n",
       "</table>\n",
       "<p>4743 rows × 14 columns</p>\n",
       "</div>"
      ],
      "text/plain": [
       "           sex   Alberta  British Columbia  Manitoba  New Brunswick  \\\n",
       "0    -1.224745  0.215793          0.403297  1.144007       0.933094   \n",
       "1     0.000000 -0.740610         -0.739586 -0.466223      -0.550199   \n",
       "2     1.224745 -0.357228         -0.263209  0.133090       0.072518   \n",
       "3    -1.224745 -0.019015          0.135148  0.785769       0.648277   \n",
       "4     0.000000 -0.907104         -0.923565 -0.742875      -0.770703   \n",
       "...        ...       ...               ...       ...            ...   \n",
       "4738  0.000000  0.157745          0.106682 -0.114119       0.020455   \n",
       "4739  1.224745  0.802813          0.593602  0.397474       0.231771   \n",
       "4740 -1.224745 -0.536787         -0.437172 -0.718339      -0.868704   \n",
       "4741  0.000000 -0.775141         -0.781056 -0.979656      -1.071853   \n",
       "4742  1.224745 -1.075464         -1.062208 -1.216436      -1.207626   \n",
       "\n",
       "      Newfoundland and Labrador  Nova Scotia   Ontario  Prince Edward Island  \\\n",
       "0                      1.111963     1.059313  0.705562              0.841691   \n",
       "1                     -0.607457    -0.538644 -0.599945             -0.541300   \n",
       "2                      0.329288     0.144655 -0.111103             -0.029277   \n",
       "3                      0.920916     0.747517  0.420328              0.551368   \n",
       "4                     -0.741498    -0.751760 -0.796055             -0.741886   \n",
       "...                         ...          ...       ...                   ...   \n",
       "4738                  -0.065131     0.014463  0.133834              0.202981   \n",
       "4739                   0.206032     0.238360  0.536242              0.498583   \n",
       "4740                  -0.818533    -0.741809 -0.616259             -0.773558   \n",
       "4741                  -1.006498    -0.987266 -0.907332             -0.989980   \n",
       "4742                  -1.202167    -1.207845 -1.125537             -1.195845   \n",
       "\n",
       "        Quebec  Saskatchewan  sex by Alberta  sex by British Columbia  \\\n",
       "0     0.994269      1.081486       -0.936287                 0.142365   \n",
       "1    -0.585943     -0.563625        0.630689                -1.145027   \n",
       "2     0.160008      0.168228        0.630689                 1.429757   \n",
       "3     0.776289      0.684749       -0.936287                 0.142365   \n",
       "4    -0.730599     -0.830887       -0.152799                -1.145027   \n",
       "...        ...           ...             ...                      ...   \n",
       "4738  0.073878     -0.108035       -0.936287                 0.142365   \n",
       "4739  0.419440      0.444490        1.414177                 0.142365   \n",
       "4740 -0.651393     -0.742953        0.630689                 1.429757   \n",
       "4741 -0.946397     -0.990828        0.630689                -1.145027   \n",
       "4742 -1.125201     -1.229009       -0.152799                -1.145027   \n",
       "\n",
       "      sex by Manitoba  \n",
       "0           -0.593480  \n",
       "1            1.140618  \n",
       "2            0.707094  \n",
       "3            1.574143  \n",
       "4           -0.376718  \n",
       "...               ...  \n",
       "4738         1.574143  \n",
       "4739         0.490331  \n",
       "4740        -1.677291  \n",
       "4741         1.140618  \n",
       "4742        -1.027004  \n",
       "\n",
       "[4743 rows x 14 columns]"
      ]
     },
     "execution_count": 118,
     "metadata": {},
     "output_type": "execute_result"
    }
   ],
   "source": [
    "std=StandardScaler()\n",
    "feat=[ 'sex', 'Alberta', 'British Columbia', 'Manitoba',\n",
    "       'New Brunswick', 'Newfoundland and Labrador', 'Nova Scotia', 'Ontario',\n",
    "       'Prince Edward Island', 'Quebec', 'Saskatchewan', 'sex by Alberta',\n",
    "       'sex by British Columbia', 'sex by Manitoba']\n",
    "df[feat]=std.fit_transform(df[feat])\n",
    "df[feat]"
   ]
  },
  {
   "cell_type": "code",
   "execution_count": null,
   "metadata": {},
   "outputs": [],
   "source": []
  }
 ],
 "metadata": {
  "kernelspec": {
   "display_name": "Python 3",
   "language": "python",
   "name": "python3"
  },
  "language_info": {
   "codemirror_mode": {
    "name": "ipython",
    "version": 3
   },
   "file_extension": ".py",
   "mimetype": "text/x-python",
   "name": "python",
   "nbconvert_exporter": "python",
   "pygments_lexer": "ipython3",
   "version": "3.7.6"
  }
 },
 "nbformat": 4,
 "nbformat_minor": 4
}
